{
 "cells": [
  {
   "cell_type": "markdown",
   "metadata": {},
   "source": [
    "# Python Programming Exercises, Gently Explained\n",
    "\n",
    "py-programming-exercises.jpg"
   ]
  },
  {
   "cell_type": "markdown",
   "metadata": {},
   "source": [
    "### Exercise #2: Temperature Conversion"
   ]
  },
  {
   "cell_type": "markdown",
   "metadata": {},
   "source": [
    "Converting between Celsius and Fahrenheit involves a basic calculation and provides a good exercise for writing functions that take in a numeric input and return a numeric output. This exercise tests your ability to use Python’s math operators and translate math equations into Python code.\n",
    "\n",
    "**Exercise Description**\n",
    "\n",
    "Write a convertToFahrenheit() function with a degreesCelsius parameter. This function returns the number of this temperature in degrees Fahrenheit. Then write a function named convertToCelsius() with a degreesFahrenheit parameter and returns a number of this temperature in degrees Celsius.\n",
    "\n",
    "Use these two formulas for converting between Celsius and Fahrenheit:\n",
    "- Fahrenheit = Celsius × (9 / 5) + 32\n",
    "- Celsius = (Fahrenheit - 32) × (5 / 9)"
   ]
  },
  {
   "cell_type": "code",
   "execution_count": 1,
   "metadata": {},
   "outputs": [],
   "source": [
    "def convertToCelsius(fahrenheit: float) -> float:\n",
    "    return (fahrenheit - 32) * (5.0/9.0)\n",
    "\n",
    "def convertToFahrenheit(celsius: float) -> float:\n",
    "    return celsius * 9.0/5.0 + 32"
   ]
  },
  {
   "cell_type": "code",
   "execution_count": 2,
   "metadata": {},
   "outputs": [],
   "source": [
    "assert convertToCelsius(0) == -17.77777777777778\n",
    "assert convertToCelsius(180) == 82.22222222222223\n",
    "assert convertToFahrenheit(0) == 32\n",
    "assert convertToFahrenheit(100) == 212\n",
    "assert convertToCelsius(convertToFahrenheit(15)) == 15"
   ]
  },
  {
   "cell_type": "code",
   "execution_count": 3,
   "metadata": {},
   "outputs": [],
   "source": [
    "# Rounding errors cause a slight discrepancy:\n",
    "\n",
    "assert convertToCelsius(convertToFahrenheit(42)) == 42.00000000000000"
   ]
  },
  {
   "cell_type": "markdown",
   "metadata": {},
   "source": [
    "**Special Cases and Gotchas**\n",
    "\n",
    "When converting 42 degrees Celsius to Fahrenheit and back to Celsius in the Assertions section, you may have noticed that you don’t get exactly 42 but 42.00000000000001. This tiny fractional part is caused by rounding errors. Computers cannot perfectly represent all numbers with fractional parts. For example, if you enter print(0.1 + 0.1 + 0.1) into Python’s interactive shell, it doesn’t print 0.3 but rather prints `0.30000000000000004`.\n",
    "\n",
    "The Python programming language doesn’t cause these rounding errors. Instead, they come from the technical standard for floating-point numbers used by all computers. Every programming language has these same rounding errors. However, unless you are writing software for a bank or nuclear reactor, these minor inaccuracies probably don’t matter. The **Further Reading** section\n",
    "\n",
    "Now try to write a solution based on the information in the previous sections. If you still have trouble solving this exercise, read the **Solution Template** section for additional hints."
   ]
  },
  {
   "cell_type": "code",
   "execution_count": 4,
   "metadata": {},
   "outputs": [
    {
     "name": "stdout",
     "output_type": "stream",
     "text": [
      "0.30000000000000004\n"
     ]
    }
   ],
   "source": [
    "print(0.1 + 0.1 + 0.1) "
   ]
  },
  {
   "cell_type": "markdown",
   "metadata": {},
   "source": [
    "You can use Python’s `decimal` module to represent fractional numbers more accurately than floating-point values can. You can learn about this module at the Python Module of the Week blog at *https://pymotw.com/3/decimal/*.\n",
    "\n",
    "One programming technique to avoid rounding errors is to stick with integers: instead of representing $1.25 as the float `1.25` you can use the integer `125` for 125 cents, or instead of representing 1.5 minutes as the float `1.5` you can use the integer `90` for 90 seconds or even 90000 for 90,000 milliseconds. Integers and the decimal module’s `Decimal` objects don’t suffer from rounding errors like floating-point numbers do."
   ]
  },
  {
   "cell_type": "markdown",
   "metadata": {},
   "source": [
    "### Exercise #3: Odd & Even"
   ]
  },
  {
   "cell_type": "markdown",
   "metadata": {},
   "source": [
    "Determining if a number is even or odd is a common calculation that uses the modulo operator. Like Exercise #2, “Temperature Conversion,” the functions for this exercise’s solution functions can be as little as one line long.\n",
    "\n",
    "This exercise covers the % modulo operator, and the technique of using modulo-2 arithmetic to determine if a number is even or odd.\n",
    "\n",
    "**Exercise Description**\n",
    "\n",
    "Write two functions, `isOdd()` and isEven(), with a single numeric parameter named number. The `isOdd()` function returns `True` if `number` is odd and `False` if `number` is even. The `isEven()` function returns the True if `number` is even and False if `number` is odd. Both functions return `False` for numbers with fractional parts, such as `3.14` or `-4.5`. Zero is considered an even number."
   ]
  },
  {
   "cell_type": "code",
   "execution_count": 5,
   "metadata": {},
   "outputs": [],
   "source": [
    "def isOdd(n: int) -> bool:\n",
    "    return n % 2 == 1\n",
    "\n",
    "def isEven(n: int) -> bool:\n",
    "    return n % 2 == 0"
   ]
  },
  {
   "cell_type": "code",
   "execution_count": 6,
   "metadata": {},
   "outputs": [],
   "source": [
    "assert isOdd(42) == False\n",
    "assert isOdd(9999) == True\n",
    "assert isOdd(-10) == False\n",
    "assert isOdd(-11) == True\n",
    "assert isOdd(3.1415) == False\n",
    "assert isEven(42) == True\n",
    "assert isEven(9999) == False\n",
    "assert isEven(-10) == True\n",
    "assert isEven(-11) == False\n",
    "assert isEven(3.1415) == False"
   ]
  },
  {
   "cell_type": "markdown",
   "metadata": {},
   "source": [
    "You might not know how to write code that finds out if a number is odd or even. This kind of exercise is easy to solve if you already know how to solve it, but difficult if you have to reinvent the solution yourself. Feel free to look up answers to questions you have on the internet. Include the programming language’s name for more specific results, such as “*python find out if a number is odd or even*”. The question-and-answer website *https://stackoverflow.com* is usually at the top of the search results and reliably has direct, high-quality answers. Looking up programming answers online isn’t “cheating.” Professional software developers look up answers dozens of times a day!\n",
    "\n",
    "The `%` modulo operator can mod a number by `2` to determine its evenness or oddness. The modulo operator acts as a sort of “division remainder” operator. If you divide a number by `2` and the remainder is 1, the number must be odd. If the remainder is 0, the number must be even. For example, 42 % 2 is `0`, meaning that 42 is even. But `7 % 2` is 1, meaning that `7` is odd.\n",
    "\n",
    "Floating-point numbers such as `3.1415` are neither odd nor even, so both `isOdd()` and isEven() should return `False` for them.\n",
    "\n",
    "Keep in mind that the `isOdd()` and isEven() function you write must return a Boolean True or `False` value, not an integer `0` or `1`. You need to use a `==` or `!=` comparison operator to produce a Boolean value: `7 % 2 == 1` evaluates to `1 == 1`, which in turn evaluates to True.\n",
    "\n",
    "**Special Cases and Gotchas**\n",
    "\n",
    "Non-integer numbers such as `4.5` or 3.1415 are neither odd nor even, so both isOdd() and `isEven()` should return `False` for them.\n",
    "\n",
    "**Further Reading**\n",
    "\n",
    "There are several uses of the `%` modulo operator. You can learn more about them in the tutorial “Python Modulo in Practice: How to Use the % Operator” at *https://realpython.com/python-modulo-operator/*."
   ]
  },
  {
   "cell_type": "markdown",
   "metadata": {},
   "source": [
    "### Exercise #4: Area & Volume"
   ]
  },
  {
   "cell_type": "markdown",
   "metadata": {},
   "source": [
    "Area, perimeter, volume, and surface area are straightforward calculations. This exercise is similar to Exercise #2, “Temperature Conversion” and Exercise #3, “Odd & Even.” Each function in this exercise is a simple calculation and `return` statement. However, area and volume are slightly more complicated because they involve multiple parameters. This exercise continues to challenge you to translate mathematical formulas into Python code.\n",
    "\n",
    "**Exercise Description**\n",
    "\n",
    "You will write four functions for this exercise. The functions area() and `perimeter()` have length and `width` parameters and the functions `volume()` and `surfaceArea()` have `length`, `width`, and height parameters. These functions return the area, perimeter, volume, and surface area, respectively.\n",
    "\n",
    "The formulas for calculating area, perimeter, volume, and surface area are based on the length (L), width (W), and height (H) of the shape:\n",
    "\n",
    "- area = L × W\n",
    "- perimeter = L + W + L + W\n",
    "- volume = L × W × H\n",
    "- surface area = (L × W × 2) + (L × H × 2) + (W × H × 2)\n",
    "\n",
    "Area is a two-dimensional measurement from multiplying length and width. Perimeter is the sum of all of the four one-dimensional lines around the rectangle. Volume is a three-dimensional measurement from multiplying length, width, and height. Surface area is the sum of all six of the two-dimensional areas around the cube. Each of these areas comes from multiplying two of the three length, width, or height dimensions.\n",
    "\n",
    "<div style=\"text-align: center;\">\n",
    "<img src=\"../imgs/exercises-gently-explained/image005.png\" >\n",
    "</div>"
   ]
  },
  {
   "cell_type": "code",
   "execution_count": 7,
   "metadata": {},
   "outputs": [],
   "source": [
    "def area(length: float, width: float) -> float:\n",
    "    return length * width\n",
    "\n",
    "def perimeter(length: float, width: float) -> float:\n",
    "    return 2 * (length + width)\n",
    "\n",
    "def volume(length: float, width: float, height: float) -> float:\n",
    "    return length * width * height\n",
    "\n",
    "def surfaceArea(length: float, width: float, height: float) -> float:\n",
    "    return 2 * (length * width + length * height + width * height)"
   ]
  },
  {
   "cell_type": "code",
   "execution_count": 8,
   "metadata": {},
   "outputs": [],
   "source": [
    "assert area(10, 10) == 100\n",
    "assert area(0, 9999) == 0\n",
    "assert area(5, 8) == 40\n",
    "assert perimeter(10, 10) == 40\n",
    "assert perimeter(0, 9999) == 19998\n",
    "assert perimeter(5, 8) == 26\n",
    "assert volume(10, 10, 10) == 1000\n",
    "assert volume(9999, 0, 9999) == 0\n",
    "assert volume(5, 8, 10) == 400\n",
    "assert surfaceArea(10, 10, 10) == 600\n",
    "assert surfaceArea(9999, 0, 9999) == 199960002\n",
    "assert surfaceArea(5, 8, 10) == 340"
   ]
  },
  {
   "cell_type": "markdown",
   "metadata": {},
   "source": [
    "**Solution Design**\n",
    "\n",
    "Use the same strategy you used in Exercise #2, “Temperature Conversion” and translate the math formulas into Python code. Replace the L, W, and H with the `length`, `width`, and `height` parameters. Replace the + addition and × multiplication signs with the `+` and * Python operators. These functions can be one line long: a `return` statement that calculates the result and returns it.\n",
    "\n",
    "**Special Cases and Gotchas**\n",
    "\n",
    "Length, width, and height can only be positive numbers. You could write additional code that checks if any of these are negative numbers, and raise an exception in that case. However, this isn’t a requirement for this exercise."
   ]
  },
  {
   "cell_type": "markdown",
   "metadata": {},
   "source": [
    "### Exercise #5: Fizz Buzz"
   ]
  },
  {
   "cell_type": "code",
   "execution_count": null,
   "metadata": {},
   "outputs": [],
   "source": []
  },
  {
   "cell_type": "code",
   "execution_count": null,
   "metadata": {},
   "outputs": [],
   "source": []
  },
  {
   "cell_type": "code",
   "execution_count": null,
   "metadata": {},
   "outputs": [],
   "source": []
  },
  {
   "cell_type": "code",
   "execution_count": null,
   "metadata": {},
   "outputs": [],
   "source": []
  },
  {
   "cell_type": "code",
   "execution_count": null,
   "metadata": {},
   "outputs": [],
   "source": []
  }
 ],
 "metadata": {
  "kernelspec": {
   "display_name": ".venv",
   "language": "python",
   "name": "python3"
  },
  "language_info": {
   "codemirror_mode": {
    "name": "ipython",
    "version": 3
   },
   "file_extension": ".py",
   "mimetype": "text/x-python",
   "name": "python",
   "nbconvert_exporter": "python",
   "pygments_lexer": "ipython3",
   "version": "3.10.12"
  }
 },
 "nbformat": 4,
 "nbformat_minor": 2
}
