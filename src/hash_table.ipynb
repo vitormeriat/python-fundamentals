{
 "cells": [
  {
   "cell_type": "markdown",
   "metadata": {},
   "source": [
    "# Build a Hash Table in Python\n",
    "\n",
    "#### Goals:\n",
    "- How a **hash table** differs from a **dictionary**\n",
    "- How you can **implement a hash table** from scratch in Python\n",
    "- How you can deal with **hash collisions** and other challenges\n",
    "- What the desired properties of a **hash function** are\n",
    "- How **Python’s `hash()`** works behind the scenes\n",
    "\n",
    "**`ref`**: [realpython.com/python-hash-table](https://realpython.com/python-hash-table/)\n",
    "\n",
    "---\n",
    "\n",
    "Invented over half a century ago, the **hash table** is a classic [data structure](https://en.wikipedia.org/wiki/Data_structure) that has been fundamental to programming. To this day, it helps solve many real-life problems, such as indexing database tables, caching computed values, or implementing sets. It often comes up in [job interviews](https://realpython.com/learning-paths/python-interview/), and Python uses hash tables all over the place to make name lookups almost instantaneous.\n",
    "\n",
    "Even though Python comes with its own hash table called `dict`, it can be helpful to understand how hash tables work behind the curtain.\n",
    "\n",
    "## Get to Know the Hash Table Data Structure\n",
    "\n",
    "Terminology: Colloquially, the term **hash table** or **hash map** is often used interchangeably with the word **dictionary**.\n"
   ]
  },
  {
   "cell_type": "code",
   "execution_count": 1,
   "metadata": {},
   "outputs": [],
   "source": [
    "import string\n",
    "import humanize"
   ]
  },
  {
   "cell_type": "code",
   "execution_count": 2,
   "metadata": {},
   "outputs": [
    {
     "name": "stdout",
     "output_type": "stream",
     "text": [
      "Show the first 50 characteres:\n",
      "ABCDEFGHIJKLMNOPQRSTUVWXYZABCDEFGHIJKLMNOPQRSTUVWX\n",
      "2600000000 > 2.6 billion\n"
     ]
    }
   ],
   "source": [
    "text = string.ascii_uppercase * 100_000_000\n",
    "\n",
    "# Show the first 50 characters\n",
    "print(f\"Show the first 50 characteres:\\n{text[:50]}\")\n",
    "\n",
    "print(f\"{len(text)} > {humanize.intword(len(text))}\")"
   ]
  },
  {
   "cell_type": "code",
   "execution_count": null,
   "metadata": {},
   "outputs": [],
   "source": []
  }
 ],
 "metadata": {
  "kernelspec": {
   "display_name": ".venv",
   "language": "python",
   "name": "python3"
  },
  "language_info": {
   "codemirror_mode": {
    "name": "ipython",
    "version": 3
   },
   "file_extension": ".py",
   "mimetype": "text/x-python",
   "name": "python",
   "nbconvert_exporter": "python",
   "pygments_lexer": "ipython3",
   "version": "3.10.12"
  }
 },
 "nbformat": 4,
 "nbformat_minor": 2
}
