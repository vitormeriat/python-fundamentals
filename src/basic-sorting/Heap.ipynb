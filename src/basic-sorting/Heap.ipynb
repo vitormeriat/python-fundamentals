{
 "cells": [
  {
   "cell_type": "markdown",
   "source": [
    "# Heap\r\n",
    "\r\n",
    "Simple implementation of the heap sort algorithm in Python\r\n",
    "* param array: some mutable ordered array with heterogeneous comparable items inside\r\n",
    "* return: the same array ordered by ascending\r\n",
    "\r\n",
    "### Examples:\r\n",
    "```\r\n",
    "heap_sort([0, 5, 3, 2, 2])\r\n",
    "[0, 2, 2, 3, 5]\r\n",
    "\r\n",
    "heap_sort([])\r\n",
    "[]\r\n",
    "\r\n",
    "heap_sort([-2, -5, -45])\r\n",
    "[-45, -5, -2]\r\n",
    "```"
   ],
   "metadata": {}
  },
  {
   "cell_type": "code",
   "execution_count": 2,
   "source": [
    "from __future__ import print_function\r\n",
    "\r\n",
    "def heapify(unsorted, index, heap_size):\r\n",
    "    largest = index\r\n",
    "    left_index = 2 * index + 1\r\n",
    "    right_index = 2 * index + 2\r\n",
    "    if left_index < heap_size and unsorted[left_index] > unsorted[largest]:\r\n",
    "        largest = left_index\r\n",
    "\r\n",
    "    if right_index < heap_size and unsorted[right_index] > unsorted[largest]:\r\n",
    "        largest = right_index\r\n",
    "\r\n",
    "    if largest != index:\r\n",
    "        unsorted[largest], unsorted[index] = unsorted[index], unsorted[largest]\r\n",
    "        heapify(unsorted, largest, heap_size)"
   ],
   "outputs": [],
   "metadata": {
    "collapsed": true
   }
  },
  {
   "cell_type": "code",
   "execution_count": 3,
   "source": [
    "def heap_sort(array):\r\n",
    "    n = len(array)\r\n",
    "    for i in range(n // 2 - 1, -1, -1):\r\n",
    "        heapify(array, i, n)\r\n",
    "    for i in range(n - 1, 0, -1):\r\n",
    "        array[0], array[i] = array[i], array[0]\r\n",
    "        heapify(array, 0, i)\r\n",
    "    return array"
   ],
   "outputs": [],
   "metadata": {
    "collapsed": true
   }
  },
  {
   "cell_type": "code",
   "execution_count": 5,
   "source": [
    "if __name__ == '__main__':\r\n",
    "    import sys\r\n",
    "    print(\"\\nHeap Sort\\n\" + \"=\"*40 +\"\\n\")\r\n",
    "\r\n",
    "    if sys.version_info.major < 3:\r\n",
    "        input_function = raw_input\r\n",
    "    else:\r\n",
    "        input_function = input\r\n",
    "\r\n",
    "    user_input = input_function('Enter numbers separated by a comma:\\n')\r\n",
    "    unsorted = [int(item) for item in user_input.split(',')]\r\n",
    "    print(heap_sort(unsorted))"
   ],
   "outputs": [
    {
     "output_type": "stream",
     "name": "stdout",
     "text": [
      "\n",
      "Heap Sort\n",
      "========================================\n",
      "\n",
      "[4, 12, 41, 75, 78, 145, 341, 444, 786]\n"
     ]
    }
   ],
   "metadata": {}
  },
  {
   "cell_type": "code",
   "execution_count": null,
   "source": [],
   "outputs": [],
   "metadata": {
    "collapsed": true
   }
  }
 ],
 "metadata": {
  "kernelspec": {
   "name": "python3",
   "display_name": "Python 3.8.8 64-bit ('base': conda)"
  },
  "language_info": {
   "codemirror_mode": {
    "name": "ipython",
    "version": 3
   },
   "file_extension": ".py",
   "mimetype": "text/x-python",
   "name": "python",
   "nbconvert_exporter": "python",
   "pygments_lexer": "ipython3",
   "version": "3.8.8"
  },
  "interpreter": {
   "hash": "2b7c3c4fe0b204446d2d2724147ce6fa17389f438ece71796b6aba0fb9308343"
  }
 },
 "nbformat": 4,
 "nbformat_minor": 2
}