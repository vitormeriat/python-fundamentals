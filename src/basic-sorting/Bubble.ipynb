{
 "cells": [
  {
   "cell_type": "markdown",
   "source": [
    "Simple implementation of bubble sort algorithm in Python\r\n",
    "\r\n",
    "* param array: some mutable ordered array with heterogeneous comparable items inside\r\n",
    "* return: the same array ordered by ascending\r\n",
    "\r\n",
    "### Examples:\r\n",
    "\r\n",
    "```\r\n",
    "bubble_sort([0, 5, 3, 2, 2])\r\n",
    "[0, 2, 2, 3, 5]\r\n",
    "\r\n",
    "bubble_sort([])\r\n",
    "[]\r\n",
    "\r\n",
    "bubble_sort([-2, -5, -45])\r\n",
    "[-45, -5, -2]\r\n",
    "```"
   ],
   "metadata": {}
  },
  {
   "cell_type": "code",
   "execution_count": 3,
   "source": [
    "from __future__ import print_function\r\n",
    "\r\n",
    "def bubble_sort(array):\r\n",
    "    length = len(array)\r\n",
    "    for i in range(length-1, -1, -1):\r\n",
    "        for j in range(i):\r\n",
    "            if array[j] > array[j+1]:\r\n",
    "                array[j], array[j+1] = array[j+1], array[j]\r\n",
    "    return array\r\n"
   ],
   "outputs": [],
   "metadata": {
    "collapsed": true
   }
  },
  {
   "cell_type": "code",
   "execution_count": 8,
   "source": [
    "if __name__ == '__main__':\r\n",
    "    import sys\r\n",
    "    print(\"\\nBubble Sort\\n\" + \"=\"*40 +\"\\n\")\r\n",
    "    \r\n",
    "    if sys.version_info.major < 3:\r\n",
    "        input_function = raw_input\r\n",
    "    else:\r\n",
    "        input_function = input\r\n",
    "\r\n",
    "    user_input = input_function('Enter numbers separated by a comma:\\n\\n')\r\n",
    "    unsorted = [int(item) for item in user_input.split(',')]\r\n",
    "    print(bubble_sort(unsorted))"
   ],
   "outputs": [
    {
     "output_type": "stream",
     "name": "stdout",
     "text": [
      "\n",
      "Bubble Sort\n",
      "========================================\n",
      "\n",
      "Enter numbers separated by a comma:\n",
      "\n",
      "12,6,2,89,45,74,23,1\n",
      "[1, 2, 6, 12, 23, 45, 74, 89]\n"
     ]
    }
   ],
   "metadata": {}
  },
  {
   "cell_type": "code",
   "execution_count": null,
   "source": [],
   "outputs": [],
   "metadata": {
    "collapsed": true
   }
  }
 ],
 "metadata": {
  "kernelspec": {
   "display_name": "Python 3",
   "language": "python",
   "name": "python3"
  },
  "language_info": {
   "codemirror_mode": {
    "name": "ipython",
    "version": 3
   },
   "file_extension": ".py",
   "mimetype": "text/x-python",
   "name": "python",
   "nbconvert_exporter": "python",
   "pygments_lexer": "ipython3",
   "version": "3.5.2"
  }
 },
 "nbformat": 4,
 "nbformat_minor": 2
}