{
 "cells": [
  {
   "cell_type": "code",
   "execution_count": 7,
   "metadata": {
    "collapsed": false
   },
   "outputs": [],
   "source": [
    "from tabulate import tabulate"
   ]
  },
  {
   "cell_type": "code",
   "execution_count": 8,
   "metadata": {},
   "outputs": [
    {
     "name": "stdout",
     "output_type": "stream",
     "text": [
      "1 2 3 4 5 6 7 8 9 10 "
     ]
    }
   ],
   "source": [
    "for cont in range(1, 11):\n",
    "    print(cont, end=' ')"
   ]
  },
  {
   "cell_type": "code",
   "execution_count": 9,
   "metadata": {
    "collapsed": false
   },
   "outputs": [
    {
     "name": "stdout",
     "output_type": "stream",
     "text": [
      "2 4 6 8 10 12 14 16 18 20 22 24 26 28 30 32 34 36 38 40 42 44 46 48 50 52 54 56 58 60 62 64 66 68 70 72 74 76 78 80 82 84 86 88 90 92 94 96 98 100 "
     ]
    }
   ],
   "source": [
    "cont = 1\n",
    "while True:\n",
    "    if cont % 2 == 0:\n",
    "        print(cont, end=' ')\n",
    "    cont += 1\n",
    "    if cont == 101:\n",
    "        break"
   ]
  },
  {
   "cell_type": "code",
   "execution_count": 10,
   "metadata": {
    "collapsed": false
   },
   "outputs": [],
   "source": [
    "data=[]\n",
    "headers = []\n",
    "for tabuada in range(1, 11):\n",
    "    headers.append(f'{tabuada}X')\n",
    "    coluna = [\n",
    "        '%d x %d = %d' % (tabuada, numero, tabuada * numero)\n",
    "        for numero in range(1, 11)\n",
    "    ]\n",
    "    data.append(coluna)"
   ]
  },
  {
   "cell_type": "code",
   "execution_count": 11,
   "metadata": {},
   "outputs": [
    {
     "name": "stdout",
     "output_type": "stream",
     "text": [
      "| 1X          | 2X          | 3X          | 4X          | 5X          | 6X          | 7X          | 8X          | 9X          | 10X           |\n",
      "|-------------|-------------|-------------|-------------|-------------|-------------|-------------|-------------|-------------|---------------|\n",
      "| 1 x 1 = 1   | 1 x 2 = 2   | 1 x 3 = 3   | 1 x 4 = 4   | 1 x 5 = 5   | 1 x 6 = 6   | 1 x 7 = 7   | 1 x 8 = 8   | 1 x 9 = 9   | 1 x 10 = 10   |\n",
      "| 2 x 1 = 2   | 2 x 2 = 4   | 2 x 3 = 6   | 2 x 4 = 8   | 2 x 5 = 10  | 2 x 6 = 12  | 2 x 7 = 14  | 2 x 8 = 16  | 2 x 9 = 18  | 2 x 10 = 20   |\n",
      "| 3 x 1 = 3   | 3 x 2 = 6   | 3 x 3 = 9   | 3 x 4 = 12  | 3 x 5 = 15  | 3 x 6 = 18  | 3 x 7 = 21  | 3 x 8 = 24  | 3 x 9 = 27  | 3 x 10 = 30   |\n",
      "| 4 x 1 = 4   | 4 x 2 = 8   | 4 x 3 = 12  | 4 x 4 = 16  | 4 x 5 = 20  | 4 x 6 = 24  | 4 x 7 = 28  | 4 x 8 = 32  | 4 x 9 = 36  | 4 x 10 = 40   |\n",
      "| 5 x 1 = 5   | 5 x 2 = 10  | 5 x 3 = 15  | 5 x 4 = 20  | 5 x 5 = 25  | 5 x 6 = 30  | 5 x 7 = 35  | 5 x 8 = 40  | 5 x 9 = 45  | 5 x 10 = 50   |\n",
      "| 6 x 1 = 6   | 6 x 2 = 12  | 6 x 3 = 18  | 6 x 4 = 24  | 6 x 5 = 30  | 6 x 6 = 36  | 6 x 7 = 42  | 6 x 8 = 48  | 6 x 9 = 54  | 6 x 10 = 60   |\n",
      "| 7 x 1 = 7   | 7 x 2 = 14  | 7 x 3 = 21  | 7 x 4 = 28  | 7 x 5 = 35  | 7 x 6 = 42  | 7 x 7 = 49  | 7 x 8 = 56  | 7 x 9 = 63  | 7 x 10 = 70   |\n",
      "| 8 x 1 = 8   | 8 x 2 = 16  | 8 x 3 = 24  | 8 x 4 = 32  | 8 x 5 = 40  | 8 x 6 = 48  | 8 x 7 = 56  | 8 x 8 = 64  | 8 x 9 = 72  | 8 x 10 = 80   |\n",
      "| 9 x 1 = 9   | 9 x 2 = 18  | 9 x 3 = 27  | 9 x 4 = 36  | 9 x 5 = 45  | 9 x 6 = 54  | 9 x 7 = 63  | 9 x 8 = 72  | 9 x 9 = 81  | 9 x 10 = 90   |\n",
      "| 10 x 1 = 10 | 10 x 2 = 20 | 10 x 3 = 30 | 10 x 4 = 40 | 10 x 5 = 50 | 10 x 6 = 60 | 10 x 7 = 70 | 10 x 8 = 80 | 10 x 9 = 90 | 10 x 10 = 100 |\n"
     ]
    }
   ],
   "source": [
    "print(tabulate(data, headers, tablefmt=\"github\"))"
   ]
  },
  {
   "cell_type": "code",
   "execution_count": null,
   "metadata": {},
   "outputs": [],
   "source": []
  }
 ],
 "metadata": {
  "interpreter": {
   "hash": "2b7c3c4fe0b204446d2d2724147ce6fa17389f438ece71796b6aba0fb9308343"
  },
  "kernelspec": {
   "display_name": "Python 3.8.8 64-bit ('base': conda)",
   "name": "python3"
  },
  "language_info": {
   "codemirror_mode": {
    "name": "ipython",
    "version": 3
   },
   "file_extension": ".py",
   "mimetype": "text/x-python",
   "name": "python",
   "nbconvert_exporter": "python",
   "pygments_lexer": "ipython3",
   "version": "3.12.0"
  }
 },
 "nbformat": 4,
 "nbformat_minor": 1
}
