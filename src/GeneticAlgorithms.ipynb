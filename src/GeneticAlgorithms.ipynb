{
 "cells": [
  {
   "cell_type": "markdown",
   "source": [
    "# Genetic algorithms\n",
    "\n",
    "Genetic algorithms are one of the tools we can use to apply machine learning to finding good, sometimes even optimal, solutions to problems that have billions of potential solutions. They use biological processes in software to find answers to problems that have really large search spaces by continuously generating candidate solutions, evaluating how well the solutions fit the desired outcome, and refining the best solutions.\n",
    "\n",
    "Based on Genetic Algorithms with Python by Clinton Sheppard.\n",
    "\n",
    "The final code from this book is available at [github](https://github.com/handcraftsman/GeneticAlgorithmsWithPython).\n",
    "\n",
    "---\n",
    "\n",
    "## Guess the Password"
   ],
   "metadata": {}
  },
  {
   "cell_type": "code",
   "execution_count": 1,
   "source": [
    "import random\n",
    "import statistics\n",
    "import time\n",
    "import sys\n",
    "import unittest\n",
    "import datetime"
   ],
   "outputs": [],
   "metadata": {
    "collapsed": true
   }
  },
  {
   "cell_type": "markdown",
   "source": [
    "#### Generate a guess \n",
    "Next the algorithm needs a way to generate a random string from the gene set.\n",
    "\n",
    "> random.sample takes sampleSize values from the input without replacement. This means there will be no duplicates in the generated parent unless geneSet contains duplicates, or length is greater than len(geneSet). The implementation above can generate a long string with a small set of genes and uses as many unique genes as possible.\n",
    "\n"
   ],
   "metadata": {}
  },
  {
   "cell_type": "code",
   "execution_count": 2,
   "source": [
    "def _generate_parent(length, geneSet, get_fitness):\n",
    "    genes = []\n",
    "    while len(genes) < length:\n",
    "        sampleSize = min(length - len(genes), len(geneSet))\n",
    "        genes.extend(random.sample(geneSet, sampleSize))\n",
    "    genes = ''.join(genes)\n",
    "    fitness = get_fitness(genes)\n",
    "    return Chromosome(genes, fitness)"
   ],
   "outputs": [],
   "metadata": {
    "collapsed": true
   }
  },
  {
   "cell_type": "code",
   "execution_count": 3,
   "source": [
    "def _mutate(parent, geneSet, get_fitness):\n",
    "    index = random.randrange(0, len(parent.Genes))\n",
    "    childGenes = list(parent.Genes)\n",
    "    newGene, alternate = random.sample(geneSet, 2)\n",
    "    childGenes[index] = alternate \\\n",
    "        if newGene == childGenes[index] \\\n",
    "        else newGene\n",
    "    genes = ''.join(childGenes)\n",
    "    fitness = get_fitness(genes)\n",
    "    return Chromosome(genes, fitness)"
   ],
   "outputs": [],
   "metadata": {
    "collapsed": true
   }
  },
  {
   "cell_type": "code",
   "execution_count": 4,
   "source": [
    "def get_best(get_fitness, targetLen, optimalFitness, geneSet, display):\n",
    "    random.seed()\n",
    "    bestParent = _generate_parent(targetLen, geneSet, get_fitness)\n",
    "    display(bestParent)\n",
    "    if bestParent.Fitness >= optimalFitness:\n",
    "        return bestParent\n",
    "    while True:\n",
    "        child = _mutate(bestParent, geneSet, get_fitness)\n",
    "        if bestParent.Fitness >= child.Fitness:\n",
    "            continue\n",
    "        display(child)\n",
    "        if child.Fitness >= optimalFitness:\n",
    "            return child\n",
    "        bestParent = child"
   ],
   "outputs": [],
   "metadata": {
    "collapsed": true
   }
  },
  {
   "cell_type": "code",
   "execution_count": 5,
   "source": [
    "class Chromosome:\n",
    "    Genes = None\n",
    "    Fitness = None\n",
    "\n",
    "    def __init__(self, genes, fitness):\n",
    "        self.Genes = genes\n",
    "        self.Fitness = fitness"
   ],
   "outputs": [],
   "metadata": {
    "collapsed": true
   }
  },
  {
   "cell_type": "code",
   "execution_count": 6,
   "source": [
    "class Benchmark:\n",
    "    @staticmethod\n",
    "    def run(function):\n",
    "        timings = []\n",
    "        stdout = sys.stdout\n",
    "        for i in range(100):\n",
    "            sys.stdout = None\n",
    "            startTime = time.time()\n",
    "            function()\n",
    "            seconds = time.time() - startTime\n",
    "            sys.stdout = stdout\n",
    "            timings.append(seconds)\n",
    "            mean = statistics.mean(timings)\n",
    "            if i < 10 or i % 10 == 9:\n",
    "                print(\"{0} {1:3.2f} {2:3.2f}\".format(\n",
    "                    1 + i, mean,\n",
    "                    statistics.stdev(timings, mean)\n",
    "                    if i > 1 else 0))"
   ],
   "outputs": [],
   "metadata": {
    "collapsed": true
   }
  },
  {
   "cell_type": "markdown",
   "source": [
    "#### Fitness\n",
    "The fitness value the genetic algorithm provides is the only feedback the engine gets to guide it toward a solution. In this project the fitness value is the total number of letters in the guess that match the letter in the same position of the password."
   ],
   "metadata": {}
  },
  {
   "cell_type": "code",
   "execution_count": 7,
   "source": [
    "def get_fitness(guess, target):\n",
    "    return sum(1 for expected, actual in zip(target, guess)\n",
    "               if expected == actual)"
   ],
   "outputs": [],
   "metadata": {
    "collapsed": true
   }
  },
  {
   "cell_type": "code",
   "execution_count": 8,
   "source": [
    "def display(candidate, startTime):\n",
    "    timeDiff = datetime.datetime.now() - startTime\n",
    "    print(\"{0}\\t{1}\\t{2}\".format(\n",
    "        candidate.Genes, candidate.Fitness, str(timeDiff)))"
   ],
   "outputs": [],
   "metadata": {
    "collapsed": true
   }
  },
  {
   "cell_type": "markdown",
   "source": [
    "####  Genes \n",
    "To begin with, the genetic algorithm needs a gene set to use for building guesses. For this project that will be a generic set of letters."
   ],
   "metadata": {}
  },
  {
   "cell_type": "code",
   "execution_count": 9,
   "source": [
    "geneset = \" abcdefghijklmnopqrstuvwxyzABCDEFGHIJKLMNOPQRSTUVWXYZ!.,\"\n",
    "\n",
    "def guess_password(target):\n",
    "    startTime = datetime.datetime.now()\n",
    "\n",
    "    def fnGetFitness(genes):\n",
    "        return get_fitness(genes, target)\n",
    "\n",
    "    def fnDisplay(candidate):\n",
    "        display(candidate, startTime)\n",
    "\n",
    "    optimalFitness = len(target)\n",
    "    best = get_best(fnGetFitness, len(target),\n",
    "                            optimalFitness, geneset, fnDisplay)\n",
    "    if best.Genes == target:\n",
    "        print(\"é igual!\")\n",
    "    else:\n",
    "        print(\"é diferente!\")\n"
   ],
   "outputs": [],
   "metadata": {
    "collapsed": true
   }
  },
  {
   "cell_type": "markdown",
   "source": [
    "It also needs a target password to guess. Below you have a senteces to test."
   ],
   "metadata": {}
  },
  {
   "cell_type": "code",
   "execution_count": 10,
   "source": [
    "target = \"Hello World!\"\n",
    "\n",
    "guess_password(target)"
   ],
   "outputs": [
    {
     "output_type": "stream",
     "name": "stdout",
     "text": [
      "czqjBgEkf,mQ\t0\t0:00:00\n",
      "czqjBgWkf,mQ\t1\t0:00:00.002000\n",
      "ceqjBgWkf,mQ\t2\t0:00:00.002999\n",
      "ceqjBgWkf,m!\t3\t0:00:00.005998\n",
      "ceqjBgWkr,m!\t4\t0:00:00.007002\n",
      "celjBgWkr,m!\t5\t0:00:00.008032\n",
      "celjBgWor,m!\t6\t0:00:00.008032\n",
      "celjBgWorlm!\t7\t0:00:00.013030\n",
      "HeljBgWorlm!\t8\t0:00:00.017001\n",
      "HeljB Worlm!\t9\t0:00:00.017001\n",
      "Heljo Worlm!\t10\t0:00:00.018048\n",
      "Heljo World!\t11\t0:00:00.019032\n",
      "Hello World!\t12\t0:00:00.020030\n",
      "é igual!\n"
     ]
    }
   ],
   "metadata": {}
  },
  {
   "cell_type": "code",
   "execution_count": 11,
   "source": [
    "target = \"For I am fearfully and wonderfully made.\"\n",
    "\n",
    "guess_password(target)"
   ],
   "outputs": [
    {
     "output_type": "stream",
     "name": "stdout",
     "text": [
      "qCEfKGVHLjogW!n.,sTdwr mPQUpMYARbhZtNOzF\t1\t0:00:00\n",
      "qCEfKGVHLjogW!n.,sTdwr mPQUpMfARbhZtNOzF\t2\t0:00:00.001011\n",
      "qCEfKGVHLjogW!n.,sTdwd mPQUpMfARbhZtNOzF\t3\t0:00:00.002002\n",
      "qCEfKGVHLjogW!n.,sTdwd mPQUpMfAlbhZtNOzF\t4\t0:00:00.003002\n",
      "qCEfKGVHLjogW!n.,sTdwd mPQUpMfAlbhZtaOzF\t5\t0:00:00.004004\n",
      "qCEfKGVHLjogW!n.,sTawd mPQUpMfAlbhZtaOzF\t6\t0:00:00.004004\n",
      "qCEfIGVHLjogW!n.,sTawd mPQUpMfAlbhZtaOzF\t7\t0:00:00.005001\n",
      "qCEfIGVHLfogW!n.,sTawd mPQUpMfAlbhZtaOzF\t8\t0:00:00.006006\n",
      "qCEfIGVHLfogW!n.,sTawd mPnUpMfAlbhZtaOzF\t9\t0:00:00.009029\n",
      "qCEfIGVHLfogW!nl,sTawd mPnUpMfAlbhZtaOzF\t10\t0:00:00.009029\n",
      "qCEfIGVHLfogW!nl,sTawd wPnUpMfAlbhZtaOzF\t11\t0:00:00.011034\n",
      "qoEfIGVHLfogW!nl,sTawd wPnUpMfAlbhZtaOzF\t12\t0:00:00.014036\n",
      "qoEfIGVHLfogW!nllsTawd wPnUpMfAlbhZtaOzF\t13\t0:00:00.014036\n",
      "qoEfIGVHLfogW!nllsTawd wPnUpMfAlbhZtaOz.\t14\t0:00:00.019001\n",
      "qoEfIGVmLfogW!nllsTawd wPnUpMfAlbhZtaOz.\t15\t0:00:00.021001\n",
      "qoEfIGVmLfogWfnllsTawd wPnUpMfAlbhZtaOz.\t16\t0:00:00.022003\n",
      "qoEfIGVmLfogWfnllsTawd wPnUpMfAlbhZmaOz.\t17\t0:00:00.022003\n",
      "qoEfIGVmLfogWfnllyTawd wPnUpMfAlbhZmaOz.\t18\t0:00:00.023005\n",
      "qoEfIGVmLfogWfnllyTawd wPndpMfAlbhZmaOz.\t19\t0:00:00.025002\n",
      "qoEfI VmLfogWfnllyTawd wPndpMfAlbhZmaOz.\t20\t0:00:00.025002\n",
      "qoEfI VmLfoaWfnllyTawd wPndpMfAlbhZmaOz.\t21\t0:00:00.027001\n",
      "qoEfI VmLfoaWfnllyTawd wPndpMfAllhZmaOz.\t22\t0:00:00.032002\n",
      "qoEfI VmLfeaWfnllyTawd wPndpMfAllhZmaOz.\t23\t0:00:00.039008\n",
      "qoEfI VmLfeaWfnllyTawd wPndprfAllhZmaOz.\t24\t0:00:00.045001\n",
      "qoEfI VmLfeaWfnllyTawd wondprfAllhZmaOz.\t25\t0:00:00.046003\n",
      "qoEfI VmLfeaWfnllyTawd wondprfAllhZmadz.\t26\t0:00:00.047001\n",
      "qoEfI VmLfeaWfnllyTawd wondprfAllh madz.\t27\t0:00:00.050002\n",
      "qoEfI VmLfeaWfnlly awd wondprfAllh madz.\t28\t0:00:00.052999\n",
      "qoEfI VmLfeaWfnlly awd wondprfAllh made.\t29\t0:00:00.057998\n",
      "qoEfI VmLfeaWfnlly and wondprfAllh made.\t30\t0:00:00.060999\n",
      "qoEfI VmLfeaWfully and wondprfAllh made.\t31\t0:00:00.067154\n",
      "FoEfI VmLfeaWfully and wondprfAllh made.\t32\t0:00:00.082778\n",
      "FoE I VmLfeaWfully and wondprfAllh made.\t33\t0:00:00.082778\n",
      "FoE I Vm feaWfully and wondprfAllh made.\t34\t0:00:00.082778\n",
      "FoE I Vm feaWfully and wondprfAlly made.\t35\t0:00:00.082778\n",
      "FoE I Vm feaWfully and wonderfAlly made.\t36\t0:00:00.082778\n",
      "For I Vm feaWfully and wonderfAlly made.\t37\t0:00:00.082778\n",
      "For I am feaWfully and wonderfAlly made.\t38\t0:00:00.098435\n",
      "For I am feaWfully and wonderfully made.\t39\t0:00:00.098435\n",
      "For I am fearfully and wonderfully made.\t40\t0:00:00.114029\n",
      "é igual!\n"
     ]
    }
   ],
   "metadata": {}
  },
  {
   "cell_type": "code",
   "execution_count": 12,
   "source": [
    "target = \"To be or not to be.\"\n",
    "\n",
    "guess_password(target)"
   ],
   "outputs": [
    {
     "output_type": "stream",
     "name": "stdout",
     "text": [
      "kvLCXpceFxObfVos!ZS\t1\t0:00:00\n",
      "kvLCXpceFxObfVo !ZS\t2\t0:00:00.001001\n",
      "kvLCXpceFxObfVo !Z.\t3\t0:00:00.004000\n",
      "kvLbXpceFxObfVo !Z.\t4\t0:00:00.004997\n",
      "koLbXpceFxObfVo !Z.\t5\t0:00:00.005997\n",
      "koLbXpceFxobfVo !Z.\t6\t0:00:00.005997\n",
      "koLbepceFxobfVo !Z.\t7\t0:00:00.007000\n",
      "koLbepceFxobfto !Z.\t8\t0:00:00.007998\n",
      "koLbepcrFxobfto !Z.\t9\t0:00:00.021006\n",
      "koLbepcrFxob to !Z.\t10\t0:00:00.024017\n",
      "koLbepcrFxob to !e.\t11\t0:00:00.025999\n",
      "koLbe crFxob to !e.\t12\t0:00:00.025999\n",
      "ToLbe crFxob to !e.\t13\t0:00:00.026998\n",
      "ToLbe cr xob to !e.\t14\t0:00:00.029998\n",
      "To be cr xob to !e.\t15\t0:00:00.032996\n",
      "To be cr xob to be.\t16\t0:00:00.033997\n",
      "To be cr xot to be.\t17\t0:00:00.042027\n",
      "To be or xot to be.\t18\t0:00:00.045027\n",
      "To be or not to be.\t19\t0:00:00.053029\n",
      "é igual!\n"
     ]
    }
   ],
   "metadata": {}
  },
  {
   "cell_type": "code",
   "execution_count": 13,
   "source": [
    "length = 50\n",
    "target = ''.join(random.choice(geneset) for _ in range(length))\n",
    "print(target+\"\\n\\n\")\n",
    "guess_password(target)"
   ],
   "outputs": [
    {
     "output_type": "stream",
     "name": "stdout",
     "text": [
      ".hOQXaQbVdDGHqTBmSzt.SCMQyZOZYQlsgOJfqtBQSj RcuRHR\n",
      "\n",
      "\n",
      "selwiYqzXGmcOhjUL.uNEfVxCBbP tknTQvRFgWpoADdraS!KZ\t0\t0:00:00\n",
      "selwiYqzXGmcOhjUL.uNEfVxQBbP tknTQvRFgWpoADdraS!KZ\t1\t0:00:00.000998\n",
      "selwiYqzXGmcOhjUL.uNESVxQBbP tknTQvRFgWpoADdraS!KZ\t2\t0:00:00.001999\n",
      "selwiYqzXGmcOhjUL.uNESVxQBbP tknTQvRFgWpoAD raS!KZ\t3\t0:00:00.001999\n",
      "selwiYqzXGmcOhjUL.uNESVxQBbP tknTQvJFgWpoAD raS!KZ\t4\t0:00:00.005998\n",
      "selwiYqzXGmcOhjUL.uNESVxQBbP tknTQvJFgWpoAD rcS!KZ\t5\t0:00:00.005998\n",
      "selwiYqzXGmcOhjUL.uNESVxQBbP tknTQvJFgWpoSD rcS!KZ\t6\t0:00:00.005998\n",
      "selwiYqzXGmcOhjUL.uNESVxQBbO tknTQvJFgWpoSD rcS!KZ\t7\t0:00:00.007996\n",
      "selwiYqzXGmcOhjUL.zNESVxQBbO tknTQvJFgWpoSD rcS!KZ\t8\t0:00:00.007996\n",
      "selwiYqzXGDcOhjUL.zNESVxQBbO tknTQvJFgWpoSD rcS!KZ\t9\t0:00:00.007996\n",
      "selwiYqzXGDcOhjUL.zNESVxQBbO tknTQvJFgWpoSj rcS!KZ\t10\t0:00:00.009000\n",
      "selwiYqzXGDcOhjUm.zNESVxQBbO tknTQvJFgWpoSj rcS!KZ\t11\t0:00:00.009000\n",
      "selwiYqbXGDcOhjUm.zNESVxQBbO tknTQvJFgWpoSj rcS!KZ\t12\t0:00:00.010999\n",
      "selwiYqbXGDcOhjUm.zNESVxQBbO tknTQvJFgWpoSj rcSRKZ\t13\t0:00:00.013049\n",
      "selwiYqbXGDcOhjUm.zN.SVxQBbO tknTQvJFgWpoSj rcSRKZ\t14\t0:00:00.013049\n",
      "selwiYQbXGDcOhjUm.zN.SVxQBbO tknTQvJFgWpoSj rcSRKZ\t15\t0:00:00.013998\n",
      "selwiYQbXGDcOhjUm.zN.SVxQBbO tklTQvJFgWpoSj rcSRKZ\t16\t0:00:00.015028\n",
      "shlwiYQbXGDcOhjUm.zN.SVxQBbO tklTQvJFgWpoSj rcSRKZ\t17\t0:00:00.015028\n",
      "shlwiYQbXGDcOhjUm.zN.SVxQBbO tklTQvJFqWpoSj rcSRKZ\t18\t0:00:00.016033\n",
      "shlwiYQbXGDcOhjUm.zN.SVxQBbO tklTQvJFqWpoSj rcSRKR\t19\t0:00:00.017001\n",
      "shlwXYQbXGDcOhjUm.zN.SVxQBbO tklTQvJFqWpoSj rcSRKR\t20\t0:00:00.018008\n",
      ".hlwXYQbXGDcOhjUm.zN.SVxQBbO tklTQvJFqWpoSj rcSRKR\t21\t0:00:00.020002\n",
      ".hlwXYQbXGDcHhjUm.zN.SVxQBbO tklTQvJFqWpoSj rcSRKR\t22\t0:00:00.024004\n",
      ".hlwXYQbXGDcHhjUm.zN.SVxQBbO YklTQvJFqWpoSj rcSRKR\t23\t0:00:00.025000\n",
      ".hlwXYQbXGDcHhjUm.zN.SVxQBbO YklTQOJFqWpoSj rcSRKR\t24\t0:00:00.025000\n",
      ".hlwXaQbXGDcHhjUm.zN.SVxQBbO YklTQOJFqWpoSj rcSRKR\t25\t0:00:00.025999\n",
      ".hlwXaQbVGDcHhjUm.zN.SVxQBbO YklTQOJFqWpoSj rcSRKR\t26\t0:00:00.025999\n",
      ".hOwXaQbVGDcHhjUm.zN.SVxQBbO YklTQOJFqWpoSj rcSRKR\t27\t0:00:00.026999\n",
      ".hOwXaQbVGDcHhjUm.zN.SVxQBbO YklTQOJFqWpoSj RcSRKR\t28\t0:00:00.032000\n",
      ".hOQXaQbVGDcHhjUm.zN.SVxQBbO YklTQOJFqWpoSj RcSRKR\t29\t0:00:00.034999\n",
      ".hOQXaQbVGDcHhjUm.zN.SVxQBbO YQlTQOJFqWpoSj RcSRKR\t30\t0:00:00.038997\n",
      ".hOQXaQbVGDcHhjUm.zN.SVxQBbOZYQlTQOJFqWpoSj RcSRKR\t31\t0:00:00.044995\n",
      ".hOQXaQbVdDcHhjUm.zN.SVxQBbOZYQlTQOJFqWpoSj RcSRKR\t32\t0:00:00.048996\n",
      ".hOQXaQbVdDcHhjUm.zN.SVxQBZOZYQlTQOJFqWpoSj RcSRKR\t33\t0:00:00.054028\n",
      ".hOQXaQbVdDcHhjUm.zN.SVxQBZOZYQlsQOJFqWpoSj RcSRKR\t34\t0:00:00.054998\n",
      ".hOQXaQbVdDcHhjBm.zN.SVxQBZOZYQlsQOJFqWpoSj RcSRKR\t35\t0:00:00.056031\n",
      ".hOQXaQbVdDcHqjBm.zN.SVxQBZOZYQlsQOJFqWpoSj RcSRKR\t36\t0:00:00.056031\n",
      ".hOQXaQbVdDcHqjBm.zN.SVxQBZOZYQlsQOJFqWpoSj RcuRKR\t37\t0:00:00.056997\n",
      ".hOQXaQbVdDcHqjBm.zN.SVxQBZOZYQlsQOJFqtpoSj RcuRKR\t38\t0:00:00.061028\n",
      ".hOQXaQbVdDGHqjBm.zN.SVxQBZOZYQlsQOJFqtpoSj RcuRKR\t39\t0:00:00.062028\n",
      ".hOQXaQbVdDGHqjBm.zN.SVxQBZOZYQlsQOJfqtpoSj RcuRKR\t40\t0:00:00.063028\n",
      ".hOQXaQbVdDGHqjBm.zN.SVxQBZOZYQlsQOJfqtBoSj RcuRKR\t41\t0:00:00.064032\n",
      ".hOQXaQbVdDGHqjBm.zt.SVxQBZOZYQlsQOJfqtBoSj RcuRKR\t42\t0:00:00.078995\n",
      ".hOQXaQbVdDGHqjBm.zt.SVxQyZOZYQlsQOJfqtBoSj RcuRKR\t43\t0:00:00.079996\n",
      ".hOQXaQbVdDGHqjBmSzt.SVxQyZOZYQlsQOJfqtBoSj RcuRKR\t44\t0:00:00.081995\n",
      ".hOQXaQbVdDGHqjBmSzt.SVxQyZOZYQlsQOJfqtBoSj RcuRHR\t45\t0:00:00.092997\n",
      ".hOQXaQbVdDGHqTBmSzt.SVxQyZOZYQlsQOJfqtBoSj RcuRHR\t46\t0:00:00.095997\n",
      ".hOQXaQbVdDGHqTBmSzt.SCxQyZOZYQlsQOJfqtBoSj RcuRHR\t47\t0:00:00.117998\n",
      ".hOQXaQbVdDGHqTBmSzt.SCMQyZOZYQlsQOJfqtBoSj RcuRHR\t48\t0:00:00.122995\n",
      ".hOQXaQbVdDGHqTBmSzt.SCMQyZOZYQlsQOJfqtBQSj RcuRHR\t49\t0:00:00.156996\n",
      ".hOQXaQbVdDGHqTBmSzt.SCMQyZOZYQlsgOJfqtBQSj RcuRHR\t50\t0:00:00.261995\n",
      "é igual!\n"
     ]
    }
   ],
   "metadata": {}
  },
  {
   "cell_type": "code",
   "execution_count": null,
   "source": [
    "Benchmark.run(lambda: test_Random())"
   ],
   "outputs": [],
   "metadata": {
    "collapsed": true
   }
  }
 ],
 "metadata": {
  "kernelspec": {
   "display_name": "Python 3",
   "language": "python",
   "name": "python3"
  },
  "language_info": {
   "codemirror_mode": {
    "name": "ipython",
    "version": 3
   },
   "file_extension": ".py",
   "mimetype": "text/x-python",
   "name": "python",
   "nbconvert_exporter": "python",
   "pygments_lexer": "ipython3",
   "version": "3.5.2"
  }
 },
 "nbformat": 4,
 "nbformat_minor": 2
}