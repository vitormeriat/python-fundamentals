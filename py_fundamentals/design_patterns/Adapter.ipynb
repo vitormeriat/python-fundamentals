{
 "cells": [
  {
   "cell_type": "markdown",
   "metadata": {},
   "source": [
    "# Adapter Pattern"
   ]
  },
  {
   "cell_type": "code",
   "execution_count": 1,
   "metadata": {
    "collapsed": false
   },
   "outputs": [
    {
     "name": "stdout",
     "output_type": "stream",
     "text": [
      "Korean says 'An-neyong?'\n",
      "\n",
      "British says 'Hello!'\n",
      "\n"
     ]
    }
   ],
   "source": [
    "class Korean:\n",
    "\t\"\"\"Korean speaker\"\"\"\n",
    "\tdef __init__(self):\n",
    "\t\tself.name = \"Korean\"\n",
    " \n",
    "\tdef speak_korean(self):\n",
    "\t\treturn \"An-neyong?\"\n",
    "\n",
    "class British:\n",
    "\t\"\"\"English speaker\"\"\"\n",
    "\tdef __init__(self):\n",
    "\t\tself.name = \"British\"\t\n",
    " \n",
    "\t#Note the different method name here!\n",
    "\tdef speak_english(self):\n",
    "\t\treturn \"Hello!\"\t\n",
    "    \n",
    "class Adapter:\n",
    "\t\"\"\"This changes the generic method name to individualized method names\"\"\"\n",
    " \n",
    "\tdef __init__(self, object, **adapted_method):\n",
    "\t\t\"\"\"Change the name of the method\"\"\"\n",
    "\t\tself._object = object\n",
    " \n",
    "\t\t#Add a new dictionary item that establishes the mapping between the generic method name: speak() and the concrete method\n",
    "\t\t#For example, speak() will be translated to speak_korean() if the mapping says so\n",
    "\t\tself.__dict__.update(adapted_method)\n",
    " \n",
    "\tdef __getattr__(self, attr):\n",
    "\t\t\"\"\"Simply return the rest of attributes!\"\"\"\n",
    "\t\treturn getattr(self._object, attr)\n",
    " \n",
    "#List to store speaker objects\n",
    "objects = []\n",
    " \n",
    "#Create a Korean object\n",
    "korean = Korean()\n",
    " \n",
    "#Create a British object\n",
    "british =British()\n",
    " \n",
    "#Append the objects to the objects list\n",
    "objects.append(Adapter(korean, speak=korean.speak_korean))\n",
    "objects.append(Adapter(british, speak=british.speak_english))\n",
    " \n",
    "for obj in objects:\n",
    "\tprint(\"{} says '{}'\\n\".format(obj.name, obj.speak()))"
   ]
  },
  {
   "cell_type": "code",
   "execution_count": null,
   "metadata": {
    "collapsed": true
   },
   "outputs": [],
   "source": []
  }
 ],
 "metadata": {
  "anaconda-cloud": {},
  "kernelspec": {
   "display_name": "Python [conda root]",
   "language": "python",
   "name": "conda-root-py"
  },
  "language_info": {
   "codemirror_mode": {
    "name": "ipython",
    "version": 3
   },
   "file_extension": ".py",
   "mimetype": "text/x-python",
   "name": "python",
   "nbconvert_exporter": "python",
   "pygments_lexer": "ipython3",
   "version": "3.5.2"
  }
 },
 "nbformat": 4,
 "nbformat_minor": 1
}
