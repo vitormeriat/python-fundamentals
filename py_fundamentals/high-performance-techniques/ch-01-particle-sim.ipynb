{
 "cells": [
  {
   "cell_type": "markdown",
   "metadata": {},
   "source": [
    "# Chapter 01 - Benchmarking and Profiling"
   ]
  },
  {
   "cell_type": "markdown",
   "metadata": {},
   "source": [
    "## 01 - Designing your application"
   ]
  },
  {
   "cell_type": "markdown",
   "metadata": {},
   "source": [
    "Let's talk about the importance of profiling in optimizing Python code. Profiling helps identify the bottlenecks or slow parts of an application. By focusing on these critical sections, developers can significantly improve performance without wasting time on unnecessary optimizations.\n",
    "\n",
    "Tools for profiling:\n",
    "- **cProfile**: A standard Python module for measuring function execution time.\n",
    "- **line_profiler**: A third-party package for profiling individual lines of code.\n",
    "- **memory_profiler**: A tool for analyzing memory usage.\n",
    "- **KCachegrind**: A graphical tool for visualizing profiling data.\n",
    "\n",
    "Additionally, we will use benchmarks as a method for measuring the overall execution time of an application."
   ]
  },
  {
   "cell_type": "code",
   "execution_count": 35,
   "metadata": {},
   "outputs": [],
   "source": [
    "from matplotlib import pyplot as plt\n",
    "from matplotlib import animation\n",
    "from random import uniform\n",
    "import timeit\n",
    "\n",
    "import ipytest\n",
    "import pytest\n",
    "\n",
    "ipytest.autoconfig()"
   ]
  },
  {
   "cell_type": "markdown",
   "metadata": {},
   "source": [
    "#### Purpose of Computer Simulations:\n",
    "- Used in various fields like Physics, Chemistry, and Astronomy.\n",
    "- Essential for studying realistic systems with a large number of bodies.\n",
    "- Performance optimization is crucial for efficient simulations.\n",
    "\n",
    "#### Particle Simulation Example:\n",
    "- Simulates particles rotating around a central point.\n",
    "- Requires: Initial positions, Speeds, and Rotation directions.\n",
    "- Calculates: Particle positions at each time step.\n",
    "\n",
    "#### Visual representation:\n",
    "Origin: (0, 0)\n",
    "Position: x, y vector\n",
    "Velocity: vx, vy vector\n",
    "\n",
    "> **Key Point**: Optimizing performance is critical for large-scale simulations to handle complex systems efficiently.\n",
    "\n",
    "An example system is shown in the following figure. he origin of the system is the $\\large (0, 0)$ point, the position is indicated by\n",
    "the $\\large x, y$ vector and the velocity is indicated by the $\\large vx, vy$ vector:\n",
    "\n",
    "<div style=\"text-align: center;\">\n",
    "<img src=\"imgs/001.png\" style=\"width:250px\">\n",
    "</div>\n",
    "\n",
    "The basic feature of a circular motion is that the particles always move perpendicular to the direction connecting the particle and the center. To move the particle, we simply change the position by taking a series of very small steps (which correspond to advancing the system for a small interval of time) in the direction of motion, as shown in the following figure:\n",
    "\n",
    "<div style=\"text-align: center;\">\n",
    "<img src=\"imgs/002.png\" style=\"width:250px\">\n",
    "</div>\n",
    "\n",
    "Nosso objetivo é criar um sistema de partículas em movimento circular uniforme.\n",
    "\n",
    "We will start by designing the application in an object-oriented way. According to our requirements, it is natural to have a generic **`Particle`** class that stores the particle positions, **x** and **y**, and their angular velocity (**ang_vel**)."
   ]
  },
  {
   "cell_type": "code",
   "execution_count": 36,
   "metadata": {},
   "outputs": [],
   "source": [
    "class Particle:\n",
    "    \"\"\"Stores the particle positions, x and y, and their angular velocity\"\"\"\n",
    "\n",
    "    __slots__ = ('x', 'y', 'ang_vel')\n",
    "\n",
    "    def __init__(self, x, y, ang_vel):\n",
    "        self.x = x\n",
    "        self.y = y\n",
    "        self.ang_vel = ang_vel"
   ]
  },
  {
   "cell_type": "markdown",
   "metadata": {},
   "source": [
    "Another class, called **`ParticleSimulator`**, will encapsulate the laws of motion and will be responsible for changing the positions of the particles over time. The `__init__` method will store a list of **Particle** instances and the evolve method will change the particle positions according to our laws.\n",
    "\n",
    "Em resumo, vamos calcular as componentes da velocidade (v_x e v_y) de uma partícula em um determinado ponto (x, y) de sua trajetória circular, sempre perpendiculares ao raio que liga a partícula ao centro da circunferência. Devemos considerar que:\n",
    "\n",
    "**Particle Movement:**\n",
    "- Particles move at a constant speed.\n",
    "- Direction of movement is perpendicular to the radius from the center.\n",
    "- Velocity components (v_x, v_y) are calculated using:\n",
    "    - $\\large v_x = -\\frac{y}{\\sqrt{x^2 + y^2}}$\n",
    "    - $\\large v_y = \\frac{x}{\\sqrt{x^2 + y^2}}$\n",
    "    - onde:\n",
    "        - v_x e v_y: representam as componentes da velocidade nas direções x e y, respectivamente.\n",
    "        - x e y: representam as coordenadas da partícula em um determinado instante.\n",
    "\n",
    "\n",
    "**Circular Motion Approximation:**\n",
    "- Circular motion is approximated by dividing time into small time steps (dt).\n",
    "- In each time step, the particle moves in a straight line tangent to the circle.\n",
    "\n",
    "In order to avoid a strong divergence, such as the one illustrated in the following figure, it is necessary to take very small time steps:\n",
    "\n",
    "<div style=\"text-align: center;\">\n",
    "<img src=\"imgs/003.png\" style=\"width:250px\">\n",
    "</div>\n",
    "\n"
   ]
  },
  {
   "cell_type": "code",
   "execution_count": 37,
   "metadata": {},
   "outputs": [],
   "source": [
    "class ParticleSimulator:\n",
    "\n",
    "    def __init__(self, particles):\n",
    "        self.particles = particles\n",
    "\n",
    "    def evolve(self, dt):\n",
    "        timestep = 0.00001\n",
    "        nsteps = int(dt/timestep)\n",
    "\n",
    "        for i in range(nsteps):\n",
    "            for p in self.particles:\n",
    "                # 1. calculate the direction\n",
    "                norm = (p.x**2 + p.y**2)**0.5\n",
    "                v_x = (-p.y)/norm\n",
    "                v_y = p.x/norm\n",
    "                # 2. calculate the displacement\n",
    "                d_x = timestep * p.ang_vel * v_x\n",
    "                d_y = timestep * p.ang_vel * v_y\n",
    "\n",
    "                p.x += d_x\n",
    "                p.y += d_y\n",
    "                # 3. repeat for all the time steps"
   ]
  },
  {
   "cell_type": "markdown",
   "metadata": {},
   "source": [
    "- *`def visualize(simulator: ParticleSimulator):`* The visualize function takes a particle ParticleSimulator instance as an argument and displays the trajectory in an animated plot."
   ]
  },
  {
   "cell_type": "code",
   "execution_count": 38,
   "metadata": {},
   "outputs": [],
   "source": [
    "def visualize(simulator: ParticleSimulator):\n",
    "    # plt.matplotlib.use('Qt5Agg')  # Or 'TkAgg' \n",
    "    plt.matplotlib.use('TkAgg') \n",
    "\n",
    "    X = [p.x for p in simulator.particles]\n",
    "    Y = [p.y for p in simulator.particles]\n",
    "\n",
    "    fig = plt.figure()\n",
    "    ax = plt.subplot(111, aspect='equal')\n",
    "    # Set up the axes and use the plot function to display the particles. plot takes a list of x and y coordinates.\n",
    "    line, = ax.plot(X, Y, 'ro')\n",
    "\n",
    "    # Axis limits\n",
    "    plt.xlim(-1, 1)\n",
    "    plt.ylim(-1, 1)\n",
    "\n",
    "    # Write an initialization function, init, and a function, animate, that updates the \n",
    "    # x and y coordinates using the line.set_data method.\n",
    "\n",
    "    # It will be run when the animation starts\n",
    "    def init():\n",
    "        \n",
    "        line.set_data([], [])\n",
    "        return line,\n",
    "\n",
    "    def animate(i):\n",
    "        # We let the particle evolve for 0.1 time units\n",
    "        simulator.evolve(0.01)\n",
    "        X = [p.x for p in simulator.particles]\n",
    "        Y = [p.y for p in simulator.particles]\n",
    "\n",
    "        line.set_data(X, Y)\n",
    "        return line,\n",
    "\n",
    "    # Create a FuncAnimation instance by passing the init and animate functions\n",
    "    # plus the interval parameters, which specify the update interval, and blit,\n",
    "    # which improves the update rate of the image.\n",
    "\n",
    "    # Call the animate function each 10 ms\n",
    "    anim = animation.FuncAnimation(fig,\n",
    "                                   animate,\n",
    "                                   init_func=init,\n",
    "                                   blit=True,\n",
    "                                   interval=10, cache_frame_data=False)\n",
    "    plt.show()"
   ]
  },
  {
   "cell_type": "markdown",
   "metadata": {},
   "source": [
    "> To make an interactive visualization, we will use the *matplotlib.pyplot.plot* function to display the particles as points and the *matplotlib.animation.FuncAnimation* class to animate the evolution of the particles over time.\n",
    "\n",
    "- *`def test_visualize():`* animates a system of three particles rotating in different directions. Note that the third particle completes a round three times faster than the others. The *test_visualize* function is helpful to graphically understand the system time evolution."
   ]
  },
  {
   "cell_type": "code",
   "execution_count": 39,
   "metadata": {},
   "outputs": [],
   "source": [
    "def test_visualize():\n",
    "    particles = [Particle(0.3, 0.5, +1),\n",
    "                 Particle(0.0, -0.5, -1),\n",
    "                 Particle(-0.1, -0.4, +3)]\n",
    "\n",
    "    simulator = ParticleSimulator(particles)\n",
    "    visualize(simulator)"
   ]
  },
  {
   "cell_type": "code",
   "execution_count": 40,
   "metadata": {},
   "outputs": [],
   "source": [
    "test_visualize()"
   ]
  },
  {
   "cell_type": "markdown",
   "metadata": {},
   "source": [
    "## 02- Writing tests and benchmarks"
   ]
  },
  {
   "cell_type": "markdown",
   "metadata": {},
   "source": [
    "At this moment, we have the first version of the particle simulator. Now we can start measuring our performance and tune up our code so that the simulator can handle as many particles as possible. As a first step, we will write a test and a benchmark.\n",
    "\n",
    "Tests are important to code optimization. By creating a robust test suite, you can confidently experiment with an optimization technique without compromising the correctness of the code.\n",
    "\n",
    "The specific example involves testing a simulation function named evolve. The test will simulate three particles for a short duration and compare the results with a known correct implementation. This unit-testing approach ensures that the evolve function produces accurate results, even after code modifications.\n",
    "\n",
    "#### Unit-Testing"
   ]
  },
  {
   "cell_type": "code",
   "execution_count": 41,
   "metadata": {},
   "outputs": [],
   "source": [
    "def test_evolve():\n",
    "    particles = [Particle(0.3,  0.5, +1),\n",
    "                 Particle(0.0, -0.5, -1),\n",
    "                 Particle(-0.1, -0.4, +3)]\n",
    "\n",
    "    simulator = ParticleSimulator(particles)\n",
    "\n",
    "    simulator.evolve(0.1)\n",
    "\n",
    "    p0, p1, p2 = particles\n",
    "\n",
    "    def fequal(a, b):\n",
    "        return abs(a - b) < 1e-5\n",
    "\n",
    "    assert fequal(p0.x, 0.2102698450356825)\n",
    "    assert fequal(p0.y, 0.5438635787296997)\n",
    "\n",
    "    assert fequal(p1.x, -0.0993347660567358)\n",
    "    assert fequal(p1.y, -0.4900342888538049)\n",
    "\n",
    "    assert fequal(p2.x,  0.1913585038252641)\n",
    "    assert fequal(p2.y, -0.3652272210744360)\n",
    "\n",
    "    print(\"🟢 test_evolve passed\")"
   ]
  },
  {
   "cell_type": "code",
   "execution_count": 42,
   "metadata": {},
   "outputs": [
    {
     "name": "stdout",
     "output_type": "stream",
     "text": [
      "🟢 test_evolve passed\n"
     ]
    }
   ],
   "source": [
    "test_evolve()"
   ]
  },
  {
   "cell_type": "markdown",
   "metadata": {},
   "source": [
    "#### Benchmark\n",
    "\n",
    "> Benchmarking Python code refers to comparing the performance of one program to variations of the program.\n",
    "\n",
    "- A test ensures the correctness of our functionality but gives little information about its running time. \n",
    "- A benchmark is a simple and representative use case that can be run to assess the running time of an application. \n",
    "- Benchmarks are very useful to keep score of how fast our program is with each new version that we implement.\n",
    "\n",
    "We can write a representative benchmark by instantiating a thousand Particle objects with random coordinates and angular velocity, and feed them to a ParticleSimulator class. We then let the system evolve for 0.1 time units:"
   ]
  },
  {
   "cell_type": "code",
   "execution_count": 43,
   "metadata": {},
   "outputs": [],
   "source": [
    "def benchmark():\n",
    "    particles = [Particle(uniform(-1.0, 1.0),\n",
    "                          uniform(-1.0, 1.0),\n",
    "                          uniform(-1.0, 1.0))\n",
    "                 for i in range(100)]\n",
    "\n",
    "    simulator = ParticleSimulator(particles)\n",
    "    simulator.evolve(0.1)"
   ]
  },
  {
   "cell_type": "markdown",
   "metadata": {},
   "source": [
    "**Timing your benchmark**\n",
    "\n",
    "A very simple way to time a benchmark is through the Unix time command.\n",
    "\n",
    "**Using the `time` Command**\n",
    "\n",
    "The `time` command is a built-in Linux utility that allows you to measure the execution time of a command. It provides three types of time measurements:\n",
    "\n",
    "1. **Real time**: The total elapsed time from when the command starts to when it finishes.\n",
    "2. **User time**: The amount of time the command spent executing in user mode.\n",
    "3. **System time**: The amount of time the command spent executing in kernel mode.\n",
    "\n",
    "The Unix *`time`* command is one of the simplest and more direct ways to benchmark a program."
   ]
  },
  {
   "cell_type": "code",
   "execution_count": 44,
   "metadata": {},
   "outputs": [
    {
     "name": "stdout",
     "output_type": "stream",
     "text": [
      "python3 'ch-01-particle-sim.py'  1.50s user 0.05s system 164% cpu 0.944 total\n"
     ]
    }
   ],
   "source": [
    "!time python3 'ch-01-particle-sim.py'"
   ]
  },
  {
   "cell_type": "markdown",
   "metadata": {},
   "source": [
    "Another convenient way to time Python scripts is the *`timeit`* module. This module runs a snippet of code in a loop for $\\large n$ times and measures the total execution times. Then, it repeats the same operation $\\large r$ times (by default, the value of $\\large r$ is 3) and records the time of the best run.\n",
    "\n",
    "The timeit module can be used as a Python package, from the command line or from IPython with magic commands statements."
   ]
  },
  {
   "cell_type": "code",
   "execution_count": 45,
   "metadata": {},
   "outputs": [
    {
     "name": "stdout",
     "output_type": "stream",
     "text": [
      "425 ms ± 42 ms per loop (mean ± std. dev. of 7 runs, 1 loop each)\n"
     ]
    }
   ],
   "source": [
    "%timeit benchmark()"
   ]
  },
  {
   "cell_type": "code",
   "execution_count": 46,
   "metadata": {},
   "outputs": [
    {
     "name": "stdout",
     "output_type": "stream",
     "text": [
      "4.289500959999714\n",
      "[4.092992166002659, 4.682570675002353, 4.19110455199916]\n"
     ]
    }
   ],
   "source": [
    "result = timeit.timeit('benchmark()', \n",
    "                       setup='from __main__ import benchmark', \n",
    "                       number=10)\n",
    "\n",
    "# result is the time (in seconds) to run the whole loop\n",
    "print(result)\n",
    "\n",
    "result = timeit.repeat('benchmark()',\n",
    "                       setup='from __main__ import benchmark',\n",
    "                       number=10,\n",
    "                       repeat=3)\n",
    "\n",
    "# result is a list containing the time of each repetition (repeat=3 in this case)\n",
    "print(result)"
   ]
  },
  {
   "cell_type": "markdown",
   "metadata": {},
   "source": [
    "The pytest executable can be used from the command line to discover and run tests contained in Python modules."
   ]
  },
  {
   "cell_type": "code",
   "execution_count": 47,
   "metadata": {},
   "outputs": [
    {
     "name": "stdout",
     "output_type": "stream",
     "text": [
      "\u001b[1m============================= test session starts ==============================\u001b[0m\n",
      "platform linux -- Python 3.10.12, pytest-7.3.1, pluggy-1.0.0\n",
      "rootdir: /home/vitormeriat/repos/python-fundamentals/py_fundamentals/high-performance-techniques\n",
      "plugins: cov-4.0.0\n",
      "collected 2 items                                                              \u001b[0m\n",
      "\n",
      "ch-01-particle-sim-test.py \u001b[32m.\u001b[0m\u001b[32m.\u001b[0m\u001b[32m                                            [100%]\u001b[0m\n",
      "\n",
      "\u001b[32m============================== \u001b[32m\u001b[1m2 passed\u001b[0m\u001b[32m in 0.05s\u001b[0m\u001b[32m ===============================\u001b[0m\n"
     ]
    }
   ],
   "source": [
    "!python3 -m pytest 'ch-01-particle-sim-test.py'"
   ]
  },
  {
   "cell_type": "code",
   "execution_count": 48,
   "metadata": {},
   "outputs": [
    {
     "name": "stdout",
     "output_type": "stream",
     "text": [
      "\u001b[32m.\u001b[0m\u001b[32m.\u001b[0m\u001b[32m                                                                                           [100%]\u001b[0m\n",
      "\u001b[32m\u001b[32m\u001b[1m2 passed\u001b[0m\u001b[32m in 0.01s\u001b[0m\u001b[0m\n"
     ]
    }
   ],
   "source": [
    "%%ipytest\n",
    "\n",
    "def my_func(x):\n",
    "    return x // 2 * 2 \n",
    "\n",
    "def test_my_func_0():\n",
    "    assert my_func(0) == 0\n",
    "    assert my_func(1) == 0\n",
    "\n",
    "def test_my_func_2():\n",
    "    assert my_func(2) == 2\n",
    "    assert my_func(3) == 2"
   ]
  },
  {
   "cell_type": "code",
   "execution_count": 49,
   "metadata": {},
   "outputs": [],
   "source": [
    "@pytest.mark.parametrize(\"n\", [0.1])\n",
    "def test_evolve(n):\n",
    "    particles = [Particle(0.3,  0.5, +1),\n",
    "                 Particle(0.0, -0.5, -1),\n",
    "                 Particle(-0.1, -0.4, +3)]\n",
    "\n",
    "    simulator = ParticleSimulator(particles)\n",
    "\n",
    "    simulator.evolve(n)\n",
    "\n",
    "    p0, p1, p2 = particles\n",
    "\n",
    "    def fequal(a, b):\n",
    "        return abs(a - b) < 1e-5\n",
    "\n",
    "    assert fequal(p0.x, 0.2102698450356825)\n",
    "    assert fequal(p0.y, 0.5438635787296997)\n",
    "\n",
    "    assert fequal(p1.x, -0.0993347660567358)\n",
    "    assert fequal(p1.y, -0.4900342888538049)\n",
    "\n",
    "    assert fequal(p2.x,  0.1913585038252641)\n",
    "    assert fequal(p2.y, -0.3652272210744360)"
   ]
  },
  {
   "cell_type": "code",
   "execution_count": 50,
   "metadata": {},
   "outputs": [
    {
     "name": "stdout",
     "output_type": "stream",
     "text": [
      "\u001b[32m.\u001b[0m\u001b[32m.\u001b[0m\u001b[32m.\u001b[0m\u001b[32m                                                                                          [100%]\u001b[0m\n",
      "\u001b[32m\u001b[32m\u001b[1m3 passed\u001b[0m\u001b[32m in 0.02s\u001b[0m\u001b[0m\n"
     ]
    },
    {
     "data": {
      "text/plain": [
       "<ExitCode.OK: 0>"
      ]
     },
     "execution_count": 50,
     "metadata": {},
     "output_type": "execute_result"
    }
   ],
   "source": [
    "ipytest.run()"
   ]
  },
  {
   "cell_type": "markdown",
   "metadata": {},
   "source": [
    "## 03-Finding bottlenecks with cProfile\n",
    "\n"
   ]
  },
  {
   "cell_type": "code",
   "execution_count": null,
   "metadata": {},
   "outputs": [],
   "source": [
    "def timing():\n",
    "    result = timeit.timeit('benchmark()',\n",
    "                           setup='from __main__ import benchmark',\n",
    "                           number=10)\n",
    "    # Result is the time it takes to run the whole loop\n",
    "    print(result)\n",
    "\n",
    "    result = timeit.repeat('benchmark()',\n",
    "                           setup='from __main__ import benchmark',\n",
    "                           number=10,\n",
    "                           repeat=3)\n",
    "    # Result is a list of times\n",
    "    print(result)\n",
    "\n",
    "\n",
    "def benchmark_memory():\n",
    "    particles = [Particle(uniform(-1.0, 1.0),\n",
    "                          uniform(-1.0, 1.0),\n",
    "                          uniform(-1.0, 1.0))\n",
    "                 for i in range(100000)]\n",
    "\n",
    "    simulator = ParticleSimulator(particles)\n",
    "    simulator.evolve(0.001)"
   ]
  },
  {
   "cell_type": "code",
   "execution_count": 2,
   "metadata": {},
   "outputs": [
    {
     "name": "stdout",
     "output_type": "stream",
     "text": [
      "383 ms ± 3.03 ms per loop (mean ± std. dev. of 7 runs, 1 loop each)\n"
     ]
    }
   ],
   "source": [
    "%%timeit\n",
    "\n",
    "benchmark()"
   ]
  },
  {
   "cell_type": "code",
   "execution_count": 3,
   "metadata": {},
   "outputs": [
    {
     "name": "stdout",
     "output_type": "stream",
     "text": [
      "CPU times: user 373 ms, sys: 2.98 ms, total: 376 ms\n",
      "Wall time: 375 ms\n"
     ]
    }
   ],
   "source": [
    "%%time\n",
    "\n",
    "benchmark()"
   ]
  },
  {
   "cell_type": "code",
   "execution_count": null,
   "metadata": {},
   "outputs": [],
   "source": []
  }
 ],
 "metadata": {
  "kernelspec": {
   "display_name": ".venv",
   "language": "python",
   "name": "python3"
  },
  "language_info": {
   "codemirror_mode": {
    "name": "ipython",
    "version": 3
   },
   "file_extension": ".py",
   "mimetype": "text/x-python",
   "name": "python",
   "nbconvert_exporter": "python",
   "pygments_lexer": "ipython3",
   "version": "3.10.12"
  }
 },
 "nbformat": 4,
 "nbformat_minor": 2
}
