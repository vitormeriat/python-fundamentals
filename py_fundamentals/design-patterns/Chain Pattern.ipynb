{
 "cells": [
  {
   "cell_type": "markdown",
   "metadata": {},
   "source": [
    "# Chain Pattern"
   ]
  },
  {
   "cell_type": "code",
   "execution_count": 1,
   "metadata": {
    "collapsed": false
   },
   "outputs": [
    {
     "name": "stdout",
     "output_type": "stream",
     "text": [
      "Request 2 handled in handler 1\n",
      "Request 5 handled in handler 1\n",
      "End of chain, no handler for 30\n"
     ]
    }
   ],
   "source": [
    "class Handler: #Abstract handler\n",
    "\t\"\"\"Abstract Handler\"\"\"\n",
    "\tdef __init__(self, successor):\n",
    "\t\tself._successor = successor # Define who is the next handler\n",
    " \n",
    "\tdef handle(self, request):\n",
    "\t\t\thandled = self._handle(request) #If handled, stop here\n",
    " \n",
    "\t\t\t#Otherwise, keep going\n",
    "\t\t\tif not handled:\n",
    "\t\t\t\tself._successor.handle(request)\t\n",
    " \n",
    "\tdef _handle(self, request):\n",
    "\t\traise NotImplementedError('Must provide implementation in subclass!')\n",
    " \n",
    "class ConcreteHandler1(Handler): # Inherits from the abstract handler\n",
    "\t\"\"\"Concrete handler 1\"\"\"\n",
    "\tdef _handle(self, request):\n",
    "\t\tif 0 < request <= 10: # Provide a condition for handling\n",
    "\t\t\tprint(\"Request {} handled in handler 1\".format(request))\n",
    "\t\t\treturn True # Indicates that the request has been handled\n",
    " \n",
    "class DefaultHandler(Handler): # Inherits from the abstract handler\n",
    "\t\"\"\"Default handler\"\"\"\n",
    " \n",
    "\tdef _handle(self, request):\n",
    "\t\t\"\"\"If there is no handler available\"\"\"\n",
    "\t\t#No condition checking since this is a default handler\n",
    "\t\tprint(\"End of chain, no handler for {}\".format(request))\n",
    "\t\treturn True # Indicates that the request has been handled\n",
    " \n",
    "class Client: # Using handlers\n",
    "\tdef __init__(self):\n",
    "\t\tself.handler = ConcreteHandler1(DefaultHandler(None)) # Create handlers and use them in a sequence you want\n",
    "\t\t                                                      # Note that the default handler has no successor\n",
    " \n",
    "\tdef delegate(self, requests): # Send your requests one at a time for handlers to handle\n",
    "\t\tfor request in requests:\n",
    "\t\t\t\tself.handler.handle(request)\n",
    " \n",
    "# Create a client\n",
    "c = Client()\n",
    " \n",
    "# Create requests\n",
    "requests = [2, 5, 30]\n",
    " \n",
    "# Send the requests\n",
    "c.delegate(requests)"
   ]
  },
  {
   "cell_type": "code",
   "execution_count": null,
   "metadata": {
    "collapsed": true
   },
   "outputs": [],
   "source": []
  }
 ],
 "metadata": {
  "kernelspec": {
   "display_name": "Python [conda root]",
   "language": "python",
   "name": "conda-root-py"
  },
  "language_info": {
   "codemirror_mode": {
    "name": "ipython",
    "version": 3
   },
   "file_extension": ".py",
   "mimetype": "text/x-python",
   "name": "python",
   "nbconvert_exporter": "python",
   "pygments_lexer": "ipython3",
   "version": "3.5.2"
  }
 },
 "nbformat": 4,
 "nbformat_minor": 1
}
