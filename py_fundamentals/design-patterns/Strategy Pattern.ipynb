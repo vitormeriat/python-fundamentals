{
 "cells": [
  {
   "cell_type": "markdown",
   "metadata": {},
   "source": [
    "# Strategy Pattern"
   ]
  },
  {
   "cell_type": "code",
   "execution_count": 1,
   "metadata": {
    "collapsed": false
   },
   "outputs": [
    {
     "name": "stdout",
     "output_type": "stream",
     "text": [
      "Default Strategy is used!\n",
      "Strategy One is used to execute method 1\n",
      "Strategy Two is used to execute method 2\n"
     ]
    }
   ],
   "source": [
    "import types #Import the types module\n",
    " \n",
    "class Strategy:\n",
    "    \"\"\"The Strategy Pattern class\"\"\"\n",
    " \n",
    "    def __init__(self, function=None):\n",
    "        self.name = \"Default Strategy\"\n",
    " \n",
    "        #If a reference to a function is provided, replace the execute() method with the given function\n",
    "        if function:\n",
    "        \tself.execute = types.MethodType(function, self)\n",
    " \n",
    "    def execute(self): #This gets replaced by another version if another strategy is provided.\n",
    "        \"\"\"The defaut method that prints the name of the strategy being used\"\"\"\n",
    "        print(\"{} is used!\".format(self.name))\n",
    " \n",
    "# Replacement method 1\n",
    "def strategy_one(self):\n",
    "    print(\"{} is used to execute method 1\".format(self.name))\n",
    " \n",
    "# Replacement method 2    \n",
    "def strategy_two(self):\n",
    "\tprint(\"{} is used to execute method 2\".format(self.name))\n",
    " \n",
    "# Let's create our default strategy\n",
    "s0 = Strategy()\n",
    "#Let's execute our default strategy\n",
    "s0.execute()\n",
    " \n",
    "#Let's create the first varition of our default strategy by providing a new behavior\n",
    "s1 = Strategy(strategy_one)\n",
    "#Let's set its name\n",
    "s1.name = \"Strategy One\"\n",
    "#Let's execute the strategy\n",
    "s1.execute()\n",
    " \n",
    "s2 = Strategy(strategy_two)\n",
    "s2.name = \"Strategy Two\"\n",
    "s2.execute()"
   ]
  },
  {
   "cell_type": "markdown",
   "metadata": {},
   "source": [
    "# v2\n"
   ]
  },
  {
   "cell_type": "code",
   "execution_count": 2,
   "metadata": {
    "collapsed": false
   },
   "outputs": [
    {
     "name": "stdout",
     "output_type": "stream",
     "text": [
      "Is the temperature (60 F) good for skiing? False\n",
      "Is the temperature (60 F) good for hiking? True\n"
     ]
    }
   ],
   "source": [
    "import abc\n",
    "\n",
    "class Strategy(metaclass=abc.ABCMeta):\n",
    "    @abc.abstractmethod\n",
    "    def check_temperature(self, temperature):\n",
    "        pass\n",
    "\n",
    "\n",
    "class HikeStrategy(Strategy):\n",
    "    def check_temperature(self, temperature):\n",
    "        if temperature >= 50 and temperature <= 90:\n",
    "            return True\n",
    "        else:\n",
    "            return False\n",
    "\n",
    "\n",
    "class SkiStrategy(Strategy):\n",
    "    def check_temperature(self, temperature):\n",
    "        if temperature <= 32:\n",
    "            return True\n",
    "        else:\n",
    "            return False\n",
    "\n",
    "class Context:\n",
    "    def __init__(self, temperature, strategy):\n",
    "        self.temperature = temperature\n",
    "        self.strategy = strategy\n",
    "\n",
    "    def set_strategy(self, strategy):\n",
    "        self.strategy = strategy\n",
    "\n",
    "    def get_temperature(self):\n",
    "        return self.temperature\n",
    "\n",
    "    def get_result(self):\n",
    "        return self.strategy.check_temperature(temperature)\n",
    "\n",
    "\n",
    "if __name__ == '__main__':\n",
    "    temperature = 60\n",
    "\n",
    "    strategy_ski = SkiStrategy()\n",
    "    context = Context(temperature, strategy_ski)\n",
    "\n",
    "    print(\"Is the temperature ({} F) good for skiing? {}\".format(context.get_temperature(), context.get_result()))\n",
    "\n",
    "    strategy_hike = HikeStrategy()\n",
    "    context.set_strategy(strategy_hike)\n",
    "\n",
    "    print(\"Is the temperature ({} F) good for hiking? {}\".format(context.get_temperature(), context.get_result()))"
   ]
  },
  {
   "cell_type": "code",
   "execution_count": null,
   "metadata": {
    "collapsed": true
   },
   "outputs": [],
   "source": []
  }
 ],
 "metadata": {
  "anaconda-cloud": {},
  "kernelspec": {
   "display_name": "Python [conda root]",
   "language": "python",
   "name": "conda-root-py"
  },
  "language_info": {
   "codemirror_mode": {
    "name": "ipython",
    "version": 3
   },
   "file_extension": ".py",
   "mimetype": "text/x-python",
   "name": "python",
   "nbconvert_exporter": "python",
   "pygments_lexer": "ipython3",
   "version": "3.5.2"
  }
 },
 "nbformat": 4,
 "nbformat_minor": 1
}
