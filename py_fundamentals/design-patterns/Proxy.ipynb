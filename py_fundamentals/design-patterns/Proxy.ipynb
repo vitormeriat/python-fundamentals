{
 "cells": [
  {
   "cell_type": "markdown",
   "metadata": {},
   "source": [
    "# Proxy Pattern"
   ]
  },
  {
   "cell_type": "code",
   "execution_count": 1,
   "metadata": {
    "collapsed": false
   },
   "outputs": [
    {
     "name": "stdout",
     "output_type": "stream",
     "text": [
      "Artist checking if Producer is available ...\n",
      "Producer has time to meet you now!\n",
      "Artist checking if Producer is available ...\n",
      "Producer is busy!\n"
     ]
    }
   ],
   "source": [
    "import time\n",
    " \n",
    "class Producer:\n",
    "\t\"\"\"Define the 'resource-intensive' object to instantiate!\"\"\"\n",
    "\tdef produce(self):\n",
    "\t\tprint(\"Producer is working hard!\")\n",
    " \n",
    "\tdef meet(self):\n",
    "\t\tprint(\"Producer has time to meet you now!\")\n",
    "\n",
    "class Proxy:\n",
    "\t\"\"\"\"Define the 'relatively less resource-intensive' proxy to instantiate as a middleman\"\"\"\n",
    "\tdef __init__(self):  \n",
    "\t\tself.occupied = 'No'\n",
    "\t\tself.producer = None\n",
    " \n",
    "\tdef produce(self):\n",
    "\t\t\"\"\"Check if Producer is available\"\"\"\n",
    "\t\tprint(\"Artist checking if Producer is available ...\")\n",
    " \n",
    "\t\tif self.occupied == 'No':\n",
    "\t\t\t#If the producer is available, create a producer object!\n",
    "\t\t\tself.producer = Producer()\n",
    "\t\t\ttime.sleep(2)\n",
    " \n",
    "\t\t\t#Make the prodcuer meet the guest!\n",
    "\t\t\tself.producer.meet()\n",
    " \n",
    "\t\telse:\n",
    "\t\t\t#Otherwise, don't instantiate a producer \n",
    "\t\t\ttime.sleep(2)\n",
    "\t\t\tprint(\"Producer is busy!\")\n",
    "\n",
    "#Instantiate a Proxy\n",
    "p = Proxy()\n",
    " \n",
    "#Make the proxy: Artist produce until Producer is available\n",
    "p.produce()\n",
    " \n",
    "#Change the state to 'occupied'\n",
    "p.occupied = 'Yes'\n",
    " \n",
    "#Make the Producer produce\n",
    "p.produce()"
   ]
  },
  {
   "cell_type": "code",
   "execution_count": null,
   "metadata": {
    "collapsed": true
   },
   "outputs": [],
   "source": []
  }
 ],
 "metadata": {
  "kernelspec": {
   "display_name": "Python 3",
   "language": "python",
   "name": "python3"
  },
  "language_info": {
   "codemirror_mode": {
    "name": "ipython",
    "version": 3
   },
   "file_extension": ".py",
   "mimetype": "text/x-python",
   "name": "python",
   "nbconvert_exporter": "python",
   "pygments_lexer": "ipython3",
   "version": "3.6.0"
  }
 },
 "nbformat": 4,
 "nbformat_minor": 2
}
