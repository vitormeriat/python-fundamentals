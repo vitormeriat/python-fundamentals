{
 "cells": [
  {
   "cell_type": "markdown",
   "metadata": {},
   "source": [
    "# Visitor Pattern"
   ]
  },
  {
   "cell_type": "code",
   "execution_count": 1,
   "metadata": {
    "collapsed": false
   },
   "outputs": [
    {
     "name": "stdout",
     "output_type": "stream",
     "text": [
      "House worked on by HvacSpecialist\n",
      "House worked on by Electrician\n"
     ]
    }
   ],
   "source": [
    "class House(object): #The class being visited \n",
    "\tdef accept(self, visitor):\n",
    "\t\t\"\"\"Interface to accept a visitor\"\"\"\n",
    "\t\tvisitor.visit(self) #Triggers the visiting operation!\n",
    " \n",
    "\tdef work_on_hvac(self, hvac_specialist):\n",
    "\t\tprint(self, \"worked on by\", hvac_specialist) #Note that we now have a reference to the HVAC specialist object in the house object!\n",
    " \n",
    "\tdef work_on_electricity(self, electrician):\n",
    "\t\tprint(self, \"worked on by\", electrician) #Note that we now have a reference to the electrician object in the house object!\n",
    " \n",
    "\tdef __str__(self):\n",
    "\t\t\"\"\"Simply return the class name when the House object is printed\"\"\"\n",
    "\t\treturn self.__class__.__name__\n",
    " \n",
    " \n",
    "class Visitor(object):\n",
    "\t\"\"\"Abstract visitor\"\"\"\n",
    "\tdef __str__(self):\n",
    "\t\t\"\"\"Simply return the class name when the Visitor object is printed\"\"\"\n",
    "\t\treturn self.__class__.__name__\n",
    " \n",
    " \n",
    "class HvacSpecialist(Visitor): #Inherits from the parent class, Visitor\n",
    "\t\"\"\"Concrete visitor: HVAC specialist\"\"\"\n",
    "\tdef visit(self, house):\n",
    "\t\thouse.work_on_hvac(self) #Note that the visitor now has a reference to the house object\n",
    " \n",
    " \n",
    "class Electrician(Visitor): #Inherits from the parent class, Visitor\n",
    "\t\"\"\"Concrete visitor: electrician\"\"\"\n",
    "\tdef visit(self, house):\n",
    "\t\thouse.work_on_electricity(self) #Note that the visitor now has a reference to the house object\n",
    " \n",
    "#Create an HVAC specialist\n",
    "hv = HvacSpecialist()\n",
    "#Create an electrician\n",
    "e = Electrician()\n",
    " \n",
    "#Create a house\n",
    "home = House()\n",
    " \n",
    "#Let the house accept the HVAC specialist and work on the house by invoking the visit() method\n",
    "home.accept(hv)\n",
    " \n",
    "#Let the house accept the electrician and work on the house by invoking the visit() method\n",
    "home.accept(e)"
   ]
  },
  {
   "cell_type": "code",
   "execution_count": null,
   "metadata": {
    "collapsed": true
   },
   "outputs": [],
   "source": []
  }
 ],
 "metadata": {
  "anaconda-cloud": {},
  "kernelspec": {
   "display_name": "Python [conda root]",
   "language": "python",
   "name": "conda-root-py"
  },
  "language_info": {
   "codemirror_mode": {
    "name": "ipython",
    "version": 3
   },
   "file_extension": ".py",
   "mimetype": "text/x-python",
   "name": "python",
   "nbconvert_exporter": "python",
   "pygments_lexer": "ipython3",
   "version": "3.5.2"
  }
 },
 "nbformat": 4,
 "nbformat_minor": 1
}
