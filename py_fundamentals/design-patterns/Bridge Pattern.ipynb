{
 "cells": [
  {
   "cell_type": "markdown",
   "metadata": {},
   "source": [
    "# Bridge Pattern"
   ]
  },
  {
   "cell_type": "code",
   "execution_count": 1,
   "metadata": {
    "collapsed": false
   },
   "outputs": [
    {
     "name": "stdout",
     "output_type": "stream",
     "text": [
      "API 1 drawing a circle at (1, 2 with radius 3!)\n",
      "API 2 drawing a circle at (2, 3 with radius 4!)\n"
     ]
    }
   ],
   "source": [
    "class DrawingAPIOne(object):\n",
    "\t\"\"\"Implementation-specific abstraction: concrete class one\"\"\"\n",
    "\tdef draw_circle(SELF, x, y, radius):\n",
    "\t\tprint(\"API 1 drawing a circle at ({}, {} with radius {}!)\".format(x, y, radius))\n",
    " \n",
    " \n",
    "class DrawingAPITwo(object):\n",
    "\t\"\"\"Implementation-specific abstraction: concrete class two\"\"\"\n",
    "\tdef draw_circle(SELF, x, y, radius):\n",
    "\t\tprint(\"API 2 drawing a circle at ({}, {} with radius {}!)\".format(x, y, radius))\n",
    "\n",
    "class Circle(object):\n",
    "\t\"\"\"Implementation-independent abstraction: for example, there could be a rectangle class!\"\"\"\n",
    " \n",
    "\tdef __init__(SELF, x, y, radius, drawing_api):\n",
    "\t\t\"\"\"Initialize the necessary attributes\"\"\"\n",
    "\t\tSELF._x = x\n",
    "\t\tSELF._y = y\n",
    "\t\tSELF._radius = radius\n",
    "\t\tSELF._drawing_api = drawing_api\n",
    " \n",
    "\tdef draw(SELF):\n",
    "\t\t\"\"\"Implementation-specific abstraction taken care of by another class: DrawingAPI\"\"\"\n",
    "\t\tSELF._drawing_api.draw_circle(SELF._x, SELF._y, SELF._radius)\n",
    " \n",
    "\tdef scale(SELF, percent):\n",
    "\t\t\"\"\"Implementation-independent\"\"\"\n",
    "\t\tSELF._radius *= percent\n",
    " \n",
    " \n",
    "#Build the FIRST Circle object USING API One\n",
    "circle1 = Circle(1, 2, 3, DrawingAPIOne())\n",
    "#Draw a circle\n",
    "circle1.draw()\n",
    " \n",
    "#Build the SECOND Circle object USING API Two\n",
    "circle2 = Circle(2, 3, 4, DrawingAPITwo())\n",
    "#Draw a circle\n",
    "circle2.draw()"
   ]
  },
  {
   "cell_type": "code",
   "execution_count": null,
   "metadata": {
    "collapsed": true
   },
   "outputs": [],
   "source": []
  }
 ],
 "metadata": {
  "kernelspec": {
   "display_name": "Python [conda root]",
   "language": "python",
   "name": "conda-root-py"
  },
  "language_info": {
   "codemirror_mode": {
    "name": "ipython",
    "version": 3
   },
   "file_extension": ".py",
   "mimetype": "text/x-python",
   "name": "python",
   "nbconvert_exporter": "python",
   "pygments_lexer": "ipython3",
   "version": "3.5.2"
  }
 },
 "nbformat": 4,
 "nbformat_minor": 1
}
