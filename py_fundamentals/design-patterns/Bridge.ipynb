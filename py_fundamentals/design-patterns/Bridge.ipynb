{
 "cells": [
  {
   "cell_type": "markdown",
   "metadata": {},
   "source": [
    "# Bridge Pattern"
   ]
  },
  {
   "cell_type": "code",
   "execution_count": 1,
   "metadata": {
    "collapsed": false
   },
   "outputs": [
    {
     "name": "stdout",
     "output_type": "stream",
     "text": [
      "API 1 drawing a circle at (1, 2 with radius 3!)\n",
      "API 2 drawing a circle at (2, 3 with radius 4!)\n"
     ]
    }
   ],
   "source": [
    "class DrawingAPIOne(object):\n",
    "\t\"\"\"Implementation-specific abstraction: concrete class one\"\"\"\n",
    "\tdef draw_circle(self, x, y, radius):\n",
    "\t\tprint(f\"API 1 drawing a circle at ({x}, {y} with radius {radius}!)\")\n",
    " \n",
    " \n",
    "class DrawingAPITwo(object):\n",
    "\t\"\"\"Implementation-specific abstraction: concrete class two\"\"\"\n",
    "\tdef draw_circle(self, x, y, radius):\n",
    "\t\tprint(f\"API 2 drawing a circle at ({x}, {y} with radius {radius}!)\")\n",
    "\n",
    "class Circle(object):\n",
    "\t\"\"\"Implementation-independent abstraction: for example, there could be a rectangle class!\"\"\"\n",
    " \n",
    "\tdef __init__(self, x, y, radius, drawing_api):\n",
    "\t\t\"\"\"Initialize the necessary attributes\"\"\"\n",
    "\t\tself._x = x\n",
    "\t\tself._y = y\n",
    "\t\tself._radius = radius\n",
    "\t\tself._drawing_api = drawing_api\n",
    " \n",
    "\tdef draw(self):\n",
    "\t\t\"\"\"Implementation-specific abstraction taken care of by another class: DrawingAPI\"\"\"\n",
    "\t\tself._drawing_api.draw_circle(self._x, self._y, self._radius)\n",
    " \n",
    "\tdef scale(self, percent):\n",
    "\t\t\"\"\"Implementation-independent\"\"\"\n",
    "\t\tself._radius *= percent\n",
    " \n",
    " \n",
    "#Build the FIRST Circle object USING API One\n",
    "circle1 = Circle(1, 2, 3, DrawingAPIOne())\n",
    "#Draw a circle\n",
    "circle1.draw()\n",
    " \n",
    "#Build the SECOND Circle object USING API Two\n",
    "circle2 = Circle(2, 3, 4, DrawingAPITwo())\n",
    "#Draw a circle\n",
    "circle2.draw()"
   ]
  },
  {
   "cell_type": "code",
   "execution_count": null,
   "metadata": {
    "collapsed": true
   },
   "outputs": [],
   "source": []
  }
 ],
 "metadata": {
  "kernelspec": {
   "display_name": "Python [conda root]",
   "language": "python",
   "name": "conda-root-py"
  },
  "language_info": {
   "codemirror_mode": {
    "name": "ipython",
    "version": 3
   },
   "file_extension": ".py",
   "mimetype": "text/x-python",
   "name": "python",
   "nbconvert_exporter": "python",
   "pygments_lexer": "ipython3",
   "version": "3.5.2"
  }
 },
 "nbformat": 4,
 "nbformat_minor": 1
}
