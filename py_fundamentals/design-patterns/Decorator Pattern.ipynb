{
 "cells": [
  {
   "cell_type": "markdown",
   "metadata": {},
   "source": [
    "# Decorator Pattern"
   ]
  },
  {
   "cell_type": "code",
   "execution_count": 1,
   "metadata": {
    "collapsed": false
   },
   "outputs": [
    {
     "name": "stdout",
     "output_type": "stream",
     "text": [
      "<blink>Hello, World!</blink>\n",
      "hello_world\n",
      "Original function! \n"
     ]
    }
   ],
   "source": [
    "from functools import wraps\n",
    " \n",
    "def make_blink(function):\n",
    "    \"\"\"Defines the decorator\"\"\"\n",
    " \n",
    "    #This makes the decorator transparent in terms of its name and docstring\n",
    "    @wraps(function)\n",
    " \n",
    "    #Define the inner function\n",
    "    def decorator():\n",
    "        #Grab the return value of the function being decorated\n",
    "        ret = function() \n",
    " \n",
    "        #Add new functionality to the function being decorated\n",
    "        return \"<blink>\" + ret + \"</blink>\"\n",
    " \n",
    "    return decorator\n",
    " \n",
    "#Apply the decorator here!\n",
    "@make_blink\n",
    "def hello_world():\n",
    "    \"\"\"Original function! \"\"\"\n",
    " \n",
    "    return \"Hello, World!\"\n",
    " \n",
    "#Check the result of decorating\n",
    "print(hello_world())\n",
    " \n",
    "#Check if the function name is still the same name of the function being decorated\n",
    "print(hello_world.__name__)\n",
    " \n",
    "#Check if the docstring is still the same as that of the function being decorated\n",
    "print(hello_world.__doc__)"
   ]
  },
  {
   "cell_type": "code",
   "execution_count": null,
   "metadata": {
    "collapsed": true
   },
   "outputs": [],
   "source": []
  }
 ],
 "metadata": {
  "anaconda-cloud": {},
  "kernelspec": {
   "display_name": "Python [conda root]",
   "language": "python",
   "name": "conda-root-py"
  },
  "language_info": {
   "codemirror_mode": {
    "name": "ipython",
    "version": 3
   },
   "file_extension": ".py",
   "mimetype": "text/x-python",
   "name": "python",
   "nbconvert_exporter": "python",
   "pygments_lexer": "ipython3",
   "version": "3.5.2"
  }
 },
 "nbformat": 4,
 "nbformat_minor": 1
}
