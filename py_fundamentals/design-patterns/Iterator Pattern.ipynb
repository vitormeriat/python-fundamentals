{
 "cells": [
  {
   "cell_type": "markdown",
   "metadata": {},
   "source": [
    "# Iterator Pattern\n"
   ]
  },
  {
   "cell_type": "code",
   "execution_count": 1,
   "metadata": {
    "collapsed": false
   },
   "outputs": [
    {
     "name": "stdout",
     "output_type": "stream",
     "text": [
      "eins\n",
      "zwei\n",
      "drei\n",
      "eins\n",
      "zwei\n",
      "drei\n",
      "vier\n"
     ]
    }
   ],
   "source": [
    "def count_to(count):\n",
    "\t\"\"\"Our iterator implementation\"\"\"\n",
    " \n",
    "\t#Our list\n",
    "\tnumbers_in_german = [\"eins\", \"zwei\", \"drei\", \"vier\", \"funf\"]\n",
    " \n",
    "\t#Our built-in iterator\n",
    "\t#Creates a tuple such as (1, \"eins\")\n",
    "\titerator = zip(range(count), numbers_in_german)\n",
    " \n",
    "\t#Iterate through our iterable list\n",
    "\t#Extract the German numbers\n",
    "\t#Put them in a generator called number\n",
    "\tfor position, number in iterator:\n",
    " \n",
    "\t\t#Returns a 'generator' containing numbers in German\n",
    "\t\tyield number \n",
    " \n",
    "# Let's test the generator returned by our iterator\n",
    "for num in count_to(3):\n",
    "\tprint(\"{}\".format(num))\n",
    "    \n",
    "for num in count_to(4):\n",
    "\tprint(\"{}\".format(num))"
   ]
  },
  {
   "cell_type": "code",
   "execution_count": null,
   "metadata": {
    "collapsed": true
   },
   "outputs": [],
   "source": []
  }
 ],
 "metadata": {
  "kernelspec": {
   "display_name": "Python [conda root]",
   "language": "python",
   "name": "conda-root-py"
  },
  "language_info": {
   "codemirror_mode": {
    "name": "ipython",
    "version": 3
   },
   "file_extension": ".py",
   "mimetype": "text/x-python",
   "name": "python",
   "nbconvert_exporter": "python",
   "pygments_lexer": "ipython3",
   "version": "3.5.2"
  }
 },
 "nbformat": 4,
 "nbformat_minor": 1
}
