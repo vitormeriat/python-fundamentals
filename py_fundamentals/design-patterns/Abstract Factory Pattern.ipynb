{
 "cells": [
  {
   "cell_type": "markdown",
   "metadata": {},
   "source": [
    "# Abstract Factory Pattern"
   ]
  },
  {
   "cell_type": "code",
   "execution_count": 2,
   "metadata": {
    "collapsed": false
   },
   "outputs": [],
   "source": [
    "import abc\n",
    "\n",
    "# create an interface for Shapes\n",
    "class Shape(metaclass=abc.ABCMeta):\n",
    "    @abc.abstractmethod\n",
    "    def draw(self):\n",
    "        pass\n",
    "\n",
    "# create an interface for Colors\n",
    "class Color(metaclass=abc.ABCMeta):\n",
    "    @abc.abstractmethod\n",
    "    def fill(self):\n",
    "        pass"
   ]
  },
  {
   "cell_type": "code",
   "execution_count": 3,
   "metadata": {
    "collapsed": true
   },
   "outputs": [],
   "source": [
    "# create an abstract class to get factories for Color and Shape objects\n",
    "class AbstractFactory(metaclass=abc.ABCMeta):\n",
    "    @abc.abstractmethod\n",
    "    def get_color(self):\n",
    "        pass\n",
    "\n",
    "    @abc.abstractmethod\n",
    "    def get_shape(self):\n",
    "        pass\n",
    "\n",
    "\n",
    "class Rectangle(Shape):\n",
    "    def draw(self):\n",
    "        print(\"Inside Rectangle::draw() method.\")\n",
    "\n",
    "class Square(Shape):\n",
    "    def draw(self):\n",
    "        print(\"Inside Square::draw() method.\")\n",
    "\n",
    "class Circle(Shape):\n",
    "    def draw(self):\n",
    "        print(\"Inside Circle::draw() method.\")\n",
    "\n",
    "\n",
    "class Red(Color):\n",
    "    def fill(self):\n",
    "        print(\"Inside Red::fill() method.\")\n",
    "\n",
    "class Green(Color):\n",
    "    def fill(self):\n",
    "        print(\"Inside Green::fill() method.\")\n",
    "\n",
    "class Blue(Color):\n",
    "    def fill(self):\n",
    "        print(\"Inside Blue::fill() method.\")"
   ]
  },
  {
   "cell_type": "code",
   "execution_count": 4,
   "metadata": {
    "collapsed": true
   },
   "outputs": [],
   "source": [
    "# create Factory classes extending AbstractFactory \n",
    "# to generate object of concrete class based on given information.\n",
    "class ShapeFactory(AbstractFactory):\n",
    "    def get_shape(self, shape_type):\n",
    "        if shape_type is None:\n",
    "            return None\n",
    "\n",
    "        if shape_type == \"CIRCLE\":\n",
    "            return Circle()\n",
    "        elif shape_type == \"RECTANGLE\":\n",
    "            return Rectangle()\n",
    "        elif shape_type == \"SQUARE\":\n",
    "            return Square()\n",
    "\n",
    "        return None\n",
    "\n",
    "    def get_color(self):\n",
    "        return None\n",
    "\n",
    "\n",
    "class ColorFactory(AbstractFactory):\n",
    "    def get_color(self, color_type):\n",
    "        if color_type is None:\n",
    "            return None\n",
    "\n",
    "        if color_type == \"RED\":\n",
    "            return Red()\n",
    "        elif color_type == \"GREEN\":\n",
    "            return Green()\n",
    "        elif color_type == \"BLUE\":\n",
    "            return Blue()\n",
    "\n",
    "        return None\n",
    "\n",
    "    def get_shape(self):\n",
    "        return None"
   ]
  },
  {
   "cell_type": "code",
   "execution_count": 5,
   "metadata": {
    "collapsed": true
   },
   "outputs": [],
   "source": [
    "# create a Factory generator/producer class \n",
    "# to get factories by passing an information such as Shape or Color\n",
    "\n",
    "class FactoryProducer:\n",
    "    @staticmethod\n",
    "    def get_factory(choice):\n",
    "        if choice == \"SHAPE\":\n",
    "            return ShapeFactory()\n",
    "        elif choice == \"COLOR\":\n",
    "            return ColorFactory()\n",
    "        return None"
   ]
  },
  {
   "cell_type": "code",
   "execution_count": 6,
   "metadata": {
    "collapsed": false
   },
   "outputs": [
    {
     "name": "stdout",
     "output_type": "stream",
     "text": [
      "Inside Circle::draw() method.\n",
      "Inside Rectangle::draw() method.\n",
      "Inside Square::draw() method.\n",
      "Inside Red::fill() method.\n",
      "Inside Green::fill() method.\n",
      "Inside Blue::fill() method.\n"
     ]
    }
   ],
   "source": [
    "if __name__ == '__main__':\n",
    "    shape_factory = FactoryProducer.get_factory(\"SHAPE\")\n",
    "\n",
    "    shape1 = shape_factory.get_shape(\"CIRCLE\");\n",
    "    shape1.draw()\n",
    "\n",
    "    shape2 = shape_factory.get_shape(\"RECTANGLE\");\n",
    "    shape2.draw()\n",
    "\n",
    "    shape3 = shape_factory.get_shape(\"SQUARE\");\n",
    "    shape3.draw()\n",
    "\n",
    "    color_factory = FactoryProducer.get_factory(\"COLOR\");\n",
    "\n",
    "    color1 = color_factory.get_color(\"RED\");\n",
    "    color1.fill()\n",
    "\n",
    "    color2 = color_factory.get_color(\"GREEN\");\n",
    "    color2.fill()\n",
    "\n",
    "    color3 = color_factory.get_color(\"BLUE\");\n",
    "    color3.fill()"
   ]
  },
  {
   "cell_type": "markdown",
   "metadata": {
    "collapsed": true
   },
   "source": [
    "\n",
    "# v2"
   ]
  },
  {
   "cell_type": "code",
   "execution_count": 9,
   "metadata": {
    "collapsed": true
   },
   "outputs": [],
   "source": [
    "########## The Factory's base class #########\n",
    "class AbstractFactory(object):\n",
    "  \n",
    "  def create_product(self, **args):\n",
    "    raise NotImplementedError(\"Requires derived factory class for implementation.\")\n",
    "    \n",
    "\n",
    "######### The class of the object that needs creating ###########\n",
    "class Product(object):\n",
    "  \n",
    "  def do_somthing(self):\n",
    "    print(\"Doing some things!\")\n",
    "    \n",
    "\n",
    "######### The  Factory of the class that needs creating ###########\n",
    "class ConcreteFactory(AbstractFactory):\n",
    "  \n",
    "  def create_product(self):\n",
    "    return Product()\n",
    "    \n",
    "    \n",
    "######### The class that needs a product ###########\n",
    "class Client(object):\n",
    "  \n",
    "    def __init__(self, factory):\n",
    "        self.factory = factory\n",
    "    \n",
    "    def use_a_product(self):\n",
    "        product = self.factory.create_product()\n",
    "        product.do_somthing()\n",
    "      \n",
    "      \n",
    "######## Start le program #########      \n",
    "def main():\n",
    "    factory = ConcreteFactory()\n",
    "    client = Client(factory)\n",
    "    client.use_a_product()"
   ]
  },
  {
   "cell_type": "code",
   "execution_count": 10,
   "metadata": {
    "collapsed": false
   },
   "outputs": [
    {
     "name": "stdout",
     "output_type": "stream",
     "text": [
      "Doing some things!\n"
     ]
    }
   ],
   "source": [
    "######## Catch the start of the Program ########\n",
    "if __name__ == \"__main__\":\n",
    "    main()"
   ]
  },
  {
   "cell_type": "markdown",
   "metadata": {},
   "source": [
    "# v3"
   ]
  },
  {
   "cell_type": "code",
   "execution_count": 12,
   "metadata": {
    "collapsed": false
   },
   "outputs": [],
   "source": [
    "from abc import ABCMeta \n",
    "\n",
    "#Abstract Factory\n",
    "class StandardFactory(object):\n",
    "    \n",
    "    @staticmethod\n",
    "    def get_factory(factory):\n",
    "        if factory == 'soccer':\n",
    "            return SoccerFactory()\n",
    "        elif factory == 'volley':\n",
    "            return VolleyFactory()\n",
    "        raise TypeError('Unknown Factory.')\n",
    "\n",
    "\n",
    "#Factory\n",
    "class SoccerFactory(object):\n",
    "    def get_ball(self):\n",
    "        return BallSoccer();\n",
    "\n",
    "\n",
    "class VolleyFactory(object):\n",
    "    def get_ball(self):\n",
    "        return BallVolley();\n",
    "    \n",
    "    \n",
    "# Product Interface\n",
    "class Ball(object):\n",
    "    __metaclass__ = ABCMeta\n",
    "    def play(self):\n",
    "        pass\n",
    "        \n",
    "        \n",
    "# Products\n",
    "class BallSoccer(object):\n",
    "    def play(self):\n",
    "        return 'Ball is rolling...'\n",
    "\n",
    "\n",
    "class BallVolley(object):\n",
    "    def play(self):\n",
    "        return 'Ball is flying!'"
   ]
  },
  {
   "cell_type": "code",
   "execution_count": 13,
   "metadata": {
    "collapsed": false
   },
   "outputs": [
    {
     "name": "stdout",
     "output_type": "stream",
     "text": [
      "Ball is flying!\n",
      "Ball is rolling...\n"
     ]
    }
   ],
   "source": [
    "if __name__ ==\"__main__\":\n",
    "    factory = StandardFactory.get_factory('volley')\n",
    "    ball = factory.get_ball()\n",
    "    print(ball.play())\n",
    "   \n",
    "    factory = StandardFactory.get_factory('soccer')\n",
    "    ball = factory.get_ball()\n",
    "    print(ball.play())"
   ]
  },
  {
   "cell_type": "markdown",
   "metadata": {},
   "source": [
    "# v4"
   ]
  },
  {
   "cell_type": "code",
   "execution_count": 14,
   "metadata": {
    "collapsed": false
   },
   "outputs": [
    {
     "name": "stdout",
     "output_type": "stream",
     "text": [
      "Our pet is 'Dog'!\n",
      "Our pet says hello by 'Woof!'\n",
      "Its food is 'Dog Food!'!\n"
     ]
    }
   ],
   "source": [
    "class Dog:\n",
    "\t\"\"\"One of the objects to be returned\"\"\"\n",
    "\tdef speak(self):\n",
    "\t\treturn \"Woof!\"\n",
    "\tdef __str__(self):\n",
    "\t\treturn \"Dog\"\n",
    "\t\n",
    "class DogFactory:\n",
    "\t\"\"\"Concrete Factory\"\"\"\n",
    "\tdef get_pet(self):\n",
    "\t\t\"\"\"Returns a Dog object\"\"\"\n",
    "\t\treturn Dog()\n",
    "\tdef get_food(self):\n",
    "\t\t\"\"\"Returns a Dog Food object\"\"\"\n",
    "\t\treturn \"Dog Food!\"\n",
    "\t\n",
    "class PetStore:\n",
    "\t\"\"\" PetStore houses our Abstract Factory \"\"\"\n",
    "\tdef __init__(self, pet_factory=None):\n",
    "\t\t\"\"\" pet_factory is our Abstract Factory \"\"\"\n",
    "\t\tself._pet_factory = pet_factory\n",
    "\tdef show_pet(self):\n",
    "\t\t\"\"\" Utility method to display the details of the objects retured by the DogFactory \"\"\"\n",
    "\t\tpet = self._pet_factory.get_pet()\n",
    "\t\tpet_food = self._pet_factory.get_food()\n",
    "\t\tprint(f\"Our pet is '{pet}'!\")\n",
    "\t\tprint(f\"Our pet says hello by '{pet.speak()}'\")\n",
    "\t\tprint(f\"Its food is '{pet_food}'!\")\n",
    "\n",
    "#Create a Concrete Factory\n",
    "factory = DogFactory()\n",
    "#Create a pet store housing our Abstract Factory\n",
    "shop = PetStore(factory)\n",
    "#Invoke the utility method to show the details of our pet\n",
    "shop.show_pet()"
   ]
  },
  {
   "cell_type": "code",
   "execution_count": null,
   "metadata": {
    "collapsed": true
   },
   "outputs": [],
   "source": []
  }
 ],
 "metadata": {
  "anaconda-cloud": {},
  "kernelspec": {
   "display_name": ".venv",
   "language": "python",
   "name": "python3"
  },
  "language_info": {
   "codemirror_mode": {
    "name": "ipython",
    "version": 3
   },
   "file_extension": ".py",
   "mimetype": "text/x-python",
   "name": "python",
   "nbconvert_exporter": "python",
   "pygments_lexer": "ipython3",
   "version": "3.10.0"
  }
 },
 "nbformat": 4,
 "nbformat_minor": 1
}
