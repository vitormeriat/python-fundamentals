{
 "cells": [
  {
   "cell_type": "markdown",
   "metadata": {},
   "source": [
    "# Observer Pattern\n",
    "\n",
    "Provide a callback for notification of events/changes to data. Observer is a Behavioral Pattern.\n",
    "\n",
    "According to [Wikipedia](https://en.wikipedia.org/wiki/Observer_pattern) the Observer Pattern is: \n",
    "\n",
    ">A software design pattern in which an object, called the subject, maintains a list of its dependents, called observers, and notifies them automatically of any state changes, usually by calling one of their methods. It is mainly used to implement distributed event handling systems."
   ]
  },
  {
   "cell_type": "code",
   "execution_count": 1,
   "metadata": {
    "collapsed": true
   },
   "outputs": [],
   "source": [
    "class Subject(object):\n",
    "\n",
    "    def __init__(self):\n",
    "        self._observers = []\n",
    "\n",
    "    def attach(self, observer):\n",
    "        if observer not in self._observers:\n",
    "            self._observers.append(observer)\n",
    "\n",
    "    def detach(self, observer):\n",
    "        try:\n",
    "            self._observers.remove(observer)\n",
    "        except ValueError:\n",
    "            pass\n",
    "\n",
    "    def notify(self, modifier=None):\n",
    "        for observer in self._observers:\n",
    "            if modifier != observer:\n",
    "                observer.update(self)"
   ]
  },
  {
   "cell_type": "markdown",
   "metadata": {},
   "source": [
    "## Example usage"
   ]
  },
  {
   "cell_type": "code",
   "execution_count": 2,
   "metadata": {
    "collapsed": false
   },
   "outputs": [],
   "source": [
    "class Data(Subject):\n",
    "\n",
    "    def __init__(self, name=''):\n",
    "        Subject.__init__(self)\n",
    "        self.name = name\n",
    "        self._data = 0\n",
    "\n",
    "    @property\n",
    "    def data(self):\n",
    "        return self._data\n",
    "\n",
    "    @data.setter\n",
    "    def data(self, value):\n",
    "        self._data = value\n",
    "        self.notify()\n",
    "\n",
    "\n",
    "class HexViewer:\n",
    "\n",
    "    def update(self, subject):\n",
    "        print(u'HexViewer: Subject %s has data 0x%x' %\n",
    "              (subject.name, subject.data))\n",
    "\n",
    "\n",
    "class DecimalViewer:\n",
    "\n",
    "    def update(self, subject):\n",
    "        print(u'DecimalViewer: Subject %s has data %d' %\n",
    "              (subject.name, subject.data))"
   ]
  },
  {
   "cell_type": "markdown",
   "metadata": {},
   "source": [
    "## Example consumer..."
   ]
  },
  {
   "cell_type": "code",
   "execution_count": 3,
   "metadata": {
    "collapsed": false
   },
   "outputs": [
    {
     "name": "stdout",
     "output_type": "stream",
     "text": [
      "\n",
      "Setting Data 1 = 10\n",
      "DecimalViewer: Subject Data 1 has data 10\n",
      "HexViewer: Subject Data 1 has data 0xa\n",
      "\n",
      "Setting Data 2 = 15\n",
      "HexViewer: Subject Data 2 has data 0xf\n",
      "DecimalViewer: Subject Data 2 has data 15\n",
      "\n",
      "Setting Data 1 = 3\n",
      "DecimalViewer: Subject Data 1 has data 3\n",
      "HexViewer: Subject Data 1 has data 0x3\n",
      "\n",
      "Setting Data 2 = 5\n",
      "HexViewer: Subject Data 2 has data 0x5\n",
      "DecimalViewer: Subject Data 2 has data 5\n",
      "\n",
      "Detach HexViewer from data1 and data2.\n",
      "\n",
      "Setting Data 1 = 10\n",
      "DecimalViewer: Subject Data 1 has data 10\n",
      "\n",
      "Setting Data 2 = 15\n",
      "DecimalViewer: Subject Data 2 has data 15\n"
     ]
    }
   ],
   "source": [
    "def main():\n",
    "    data1 = Data('Data 1')\n",
    "    data2 = Data('Data 2')\n",
    "    view1 = DecimalViewer()\n",
    "    view2 = HexViewer()\n",
    "    data1.attach(view1)\n",
    "    data1.attach(view2)\n",
    "    data2.attach(view2)\n",
    "    data2.attach(view1)\n",
    "\n",
    "    print(\"\\nSetting Data 1 = 10\")\n",
    "    data1.data = 10\n",
    "    print(\"\\nSetting Data 2 = 15\")\n",
    "    data2.data = 15\n",
    "    print(\"\\nSetting Data 1 = 3\")\n",
    "    data1.data = 3\n",
    "    print(\"\\nSetting Data 2 = 5\")\n",
    "    data2.data = 5\n",
    "    print(\"\\nDetach HexViewer from data1 and data2.\")\n",
    "    data1.detach(view2)\n",
    "    data2.detach(view2)\n",
    "    print(\"\\nSetting Data 1 = 10\")\n",
    "    data1.data = 10\n",
    "    print(\"\\nSetting Data 2 = 15\")\n",
    "    data2.data = 15\n",
    "\n",
    "\n",
    "if __name__ == '__main__':\n",
    "    main()"
   ]
  },
  {
   "cell_type": "markdown",
   "metadata": {
    "collapsed": true
   },
   "source": [
    "# v2"
   ]
  },
  {
   "cell_type": "code",
   "execution_count": 1,
   "metadata": {
    "collapsed": false
   },
   "outputs": [
    {
     "name": "stdout",
     "output_type": "stream",
     "text": [
      "Temperature Viewer: Core 1 has Temperature 80\n",
      "Temperature Viewer: Core 1 has Temperature 80\n",
      "Temperature Viewer: Core 1 has Temperature 90\n",
      "Temperature Viewer: Core 1 has Temperature 90\n"
     ]
    }
   ],
   "source": [
    "class Subject(object): #Represents what is being 'observed'\n",
    " \n",
    "\tdef __init__(self):\n",
    "\t\tself._observers = [] # This where references to all the observers are being kept\n",
    "\t\t\t\t\t\t\t # Note that this is a one-to-many relationship: there will be one subject to be observed by multiple _observers\n",
    " \n",
    "\tdef attach(self, observer):\n",
    "\t\tif observer not in self._observers: #If the observer is not already in the observers list\n",
    "\t\t\tself._observers.append(observer) # append the observer to the list\n",
    " \n",
    "\tdef detach(self, observer): #Simply remove the observer\n",
    "\t\ttry:\n",
    "\t\t\tself._observers.remove(observer)\n",
    "\t\texcept ValueError:\n",
    "\t\t\tpass\n",
    " \n",
    "\tdef notify(self, modifier=None):\n",
    "\t\tfor observer in self._observers: # For all the observers in the list\n",
    "\t\t\tif modifier != observer: # Don't notify the observer who is actually updating the temperature \n",
    "\t\t\t\tobserver.update(self) # Alert the observers!\n",
    " \n",
    "class Core(Subject): #Inherits from the Subject class\n",
    " \n",
    "\tdef __init__(self, name=\"\"):\n",
    "\t\tSubject.__init__(self)\n",
    "\t\tself._name = name #Set the name of the core\n",
    "\t\tself._temp = 0 #Initialize the temperature of the core\n",
    " \n",
    "\t@property #Getter that gets the core temperature\n",
    "\tdef temp(self):\n",
    "\t\treturn self._temp\n",
    " \n",
    "\t@temp.setter #Setter that sets the core temperature\n",
    "\tdef temp(self, temp):\n",
    "\t\tself._temp = temp\n",
    "\t\tself.notify() #Notify the observers whenever somebody changes the core temperature\n",
    " \n",
    "class TempViewer:\n",
    " \n",
    "\tdef update(self, subject): #Alert method that is invoked when the notify() method in a concrete subject is invoked\n",
    "\t\tprint(\"Temperature Viewer: {} has Temperature {}\".format(subject._name, subject._temp))\n",
    " \n",
    "#Let's create our subjects\n",
    "c1 = Core(\"Core 1\")\n",
    "c2 = Core(\"Core 2\")\n",
    " \n",
    "#Let's create our observers\n",
    "v1 = TempViewer()\n",
    "v2 = TempViewer()\n",
    " \n",
    "#Let's attach our observers to the first core\n",
    "c1.attach(v1)\n",
    "c1.attach(v2)\n",
    " \n",
    "#Let's change the temperature of our first core\n",
    "c1.temp = 80\n",
    "c1.temp = 90"
   ]
  },
  {
   "cell_type": "code",
   "execution_count": null,
   "metadata": {
    "collapsed": true
   },
   "outputs": [],
   "source": []
  }
 ],
 "metadata": {
  "anaconda-cloud": {},
  "kernelspec": {
   "display_name": "Python [conda root]",
   "language": "python",
   "name": "conda-root-py"
  },
  "language_info": {
   "codemirror_mode": {
    "name": "ipython",
    "version": 3
   },
   "file_extension": ".py",
   "mimetype": "text/x-python",
   "name": "python",
   "nbconvert_exporter": "python",
   "pygments_lexer": "ipython3",
   "version": "3.5.2"
  }
 },
 "nbformat": 4,
 "nbformat_minor": 1
}
