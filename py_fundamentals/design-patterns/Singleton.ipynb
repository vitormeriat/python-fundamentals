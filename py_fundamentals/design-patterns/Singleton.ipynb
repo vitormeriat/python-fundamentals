{
 "cells": [
  {
   "cell_type": "markdown",
   "metadata": {},
   "source": [
    "# Singleton Pattern"
   ]
  },
  {
   "cell_type": "markdown",
   "metadata": {},
   "source": [
    "This is probably the most simple pattern you can find in **`GoF`**. The intent of the **singleton pattern** consists of ensuring that a class has only one instance during the entire lifecycle of an application, as well as only one point of access to that instance.\n",
    "\n",
    "To implement this pattern you need to create a mechanism where access to a unic instance of the class is possible. The idea behind that is to make it unnecessary for the user to control the instances of the class directly."
   ]
  },
  {
   "cell_type": "markdown",
   "metadata": {},
   "source": [
    "### Default implementation"
   ]
  },
  {
   "cell_type": "code",
   "execution_count": 1,
   "metadata": {},
   "outputs": [],
   "source": [
    "class Singleton:\n",
    "\n",
    "    _instance = None\n",
    "\n",
    "    def __init__(self):\n",
    "        self.some_attribute = None\n",
    "\n",
    "    @classmethod\n",
    "    def instance(cls):\n",
    "        if cls._instance is None:\n",
    "            cls._instance = cls()\n",
    "        return cls._instance"
   ]
  },
  {
   "cell_type": "markdown",
   "metadata": {},
   "source": []
  },
  {
   "cell_type": "code",
   "execution_count": 2,
   "metadata": {},
   "outputs": [],
   "source": [
    "foo = Singleton.instance()\n",
    "bar = Singleton.instance()"
   ]
  },
  {
   "cell_type": "code",
   "execution_count": 4,
   "metadata": {},
   "outputs": [
    {
     "name": "stdout",
     "output_type": "stream",
     "text": [
      "id foo             > 140513800484176\n",
      "id bar             > 140513800484176\n",
      "foo is bar?        > True\n",
      "foo.some_attribute > None\n",
      "bar.some_attribute > None\n"
     ]
    }
   ],
   "source": [
    "print(f\"id foo             > {id(foo)}\")\n",
    "print(f\"id bar             > {id(bar)}\")\n",
    "print(f\"foo is bar?        > {foo is bar}\")\n",
    "print(f\"foo.some_attribute > {foo.some_attribute}\")\n",
    "print(f\"bar.some_attribute > {bar.some_attribute}\")"
   ]
  },
  {
   "cell_type": "code",
   "execution_count": 5,
   "metadata": {},
   "outputs": [],
   "source": [
    "foo.some_attribute = 'some value'"
   ]
  },
  {
   "cell_type": "code",
   "execution_count": 6,
   "metadata": {},
   "outputs": [
    {
     "name": "stdout",
     "output_type": "stream",
     "text": [
      "foo.some_attribute > some value\n",
      "bar.some_attribute > some value\n"
     ]
    }
   ],
   "source": [
    "print(f\"foo.some_attribute > {foo.some_attribute}\")\n",
    "print(f\"bar.some_attribute > {bar.some_attribute}\")"
   ]
  },
  {
   "cell_type": "markdown",
   "metadata": {
    "collapsed": true
   },
   "source": [
    "### Borg pattern"
   ]
  },
  {
   "cell_type": "code",
   "execution_count": 8,
   "metadata": {
    "collapsed": false
   },
   "outputs": [
    {
     "name": "stdout",
     "output_type": "stream",
     "text": [
      "id > 140682535253376 | len < 1 | obj > {'HTTP': 'Hyper Text Transfer Protocol'}\n",
      "id > 140682534091264 | len < 2 | obj > {'HTTP': 'Hyper Text Transfer Protocol', 'SNMP': 'Simple Network Management Protocol'}\n",
      "id > 140682534083248 | len < 3 | obj > {'HTTP': 'Hyper Text Transfer Protocol', 'SNMP': 'Simple Network Management Protocol', 'NLP': 'Natural Language Processing'}\n"
     ]
    }
   ],
   "source": [
    "class Borg:\n",
    "    \"\"\"Borg pattern making the class attributes global\"\"\"\n",
    "    _shared_data = {} # Attribute dictionary\n",
    " \n",
    "    def __init__(self):\n",
    "        # Make it an attribute dictionary\n",
    "        self.__dict__ = self._shared_data \n",
    " \n",
    " \n",
    "class Singleton(Borg): # Inherits from the Borg class\n",
    "    \"\"\"This class now shares all its attributes among its various instances\"\"\"\n",
    "    # This essenstially makes the singleton objects an object-oriented global variable\n",
    " \n",
    "    def __init__(self, **kwargs):\n",
    "        Borg.__init__(self)\n",
    "        # Update the attribute dictionary by inserting a new key-value pair \n",
    "        self._shared_data.update(kwargs) \n",
    " \n",
    "    def __str__(self):\n",
    "        # Returns the attribute dictionary for printing\n",
    "        return str(self._shared_data) \n",
    " \n",
    "# Let's create a singleton object and add our first acronym\n",
    "x = Singleton(HTTP=\"Hyper Text Transfer Protocol\")\n",
    "# Print the object\n",
    "print(f\"id > {id(x)} | len < {len(x._shared_data)} | obj > {x}\") \n",
    "\n",
    "# Let's create another singleton object and if it refers to the same attribute dictionary by adding another acronym.\n",
    "y = Singleton(SNMP=\"Simple Network Management Protocol\")\n",
    "# Print the object\n",
    "print(f\"id > {id(y)} | len < {len(y._shared_data)} | obj > {y}\")\n",
    "\n",
    "z = Singleton(NLP=\"Natural Language Processing\")\n",
    "# Print the object\n",
    "print(f\"id > {id(z)} | len < {len(z._shared_data)} | obj > {z}\") "
   ]
  },
  {
   "cell_type": "code",
   "execution_count": null,
   "metadata": {
    "collapsed": true
   },
   "outputs": [],
   "source": []
  },
  {
   "cell_type": "code",
   "execution_count": null,
   "metadata": {},
   "outputs": [],
   "source": []
  }
 ],
 "metadata": {
  "anaconda-cloud": {},
  "kernelspec": {
   "display_name": ".venv",
   "language": "python",
   "name": "python3"
  },
  "language_info": {
   "codemirror_mode": {
    "name": "ipython",
    "version": 3
   },
   "file_extension": ".py",
   "mimetype": "text/x-python",
   "name": "python",
   "nbconvert_exporter": "python",
   "pygments_lexer": "ipython3",
   "version": "3.10.0"
  }
 },
 "nbformat": 4,
 "nbformat_minor": 1
}
