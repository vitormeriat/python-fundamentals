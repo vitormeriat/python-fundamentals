{
 "cells": [
  {
   "cell_type": "markdown",
   "metadata": {},
   "source": [
    "# Null Pattern"
   ]
  },
  {
   "cell_type": "code",
   "execution_count": 4,
   "metadata": {
    "collapsed": false
   },
   "outputs": [],
   "source": [
    "#from abs_class import AbsClass\n",
    "import abc\n",
    "\n",
    "class AbsClass(metaclass=abc.ABCMeta):\n",
    "    @abc.abstractmethod\n",
    "    def do_something(self, value):\n",
    "        pass\n",
    "\n",
    "class NullClass(AbsClass):\n",
    "    def do_something(self, value):\n",
    "        print('Not doing %s.' % value)\n",
    "        \n",
    "class MyClass(AbsClass):\n",
    "    def do_something(self, value):\n",
    "        print('Doing %s.' % value)"
   ]
  },
  {
   "cell_type": "code",
   "execution_count": 5,
   "metadata": {
    "collapsed": true
   },
   "outputs": [],
   "source": [
    "class MyObjectFactory:\n",
    "    @staticmethod\n",
    "    def create_object(value):\n",
    "        if value == 'myclass':\n",
    "            return MyClass()\n",
    "        else:\n",
    "            return NullClass()"
   ]
  },
  {
   "cell_type": "code",
   "execution_count": 6,
   "metadata": {
    "collapsed": false
   },
   "outputs": [
    {
     "name": "stdout",
     "output_type": "stream",
     "text": [
      "Not doing something.\n"
     ]
    }
   ],
   "source": [
    "myobj = MyObjectFactory.create_object('myotherlass')\n",
    "myobj.do_something('something')"
   ]
  },
  {
   "cell_type": "code",
   "execution_count": null,
   "metadata": {
    "collapsed": true
   },
   "outputs": [],
   "source": []
  }
 ],
 "metadata": {
  "anaconda-cloud": {},
  "kernelspec": {
   "display_name": "Python [conda root]",
   "language": "python",
   "name": "conda-root-py"
  },
  "language_info": {
   "codemirror_mode": {
    "name": "ipython",
    "version": 3
   },
   "file_extension": ".py",
   "mimetype": "text/x-python",
   "name": "python",
   "nbconvert_exporter": "python",
   "pygments_lexer": "ipython3",
   "version": "3.5.2"
  }
 },
 "nbformat": 4,
 "nbformat_minor": 1
}
